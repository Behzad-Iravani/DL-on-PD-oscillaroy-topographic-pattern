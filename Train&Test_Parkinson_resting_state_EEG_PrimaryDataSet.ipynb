{
  "cells": [
    {
      "cell_type": "markdown",
      "source": [
        "##Initializing "
      ],
      "metadata": {
        "id": "CPkkaGHESakE"
      }
    },
    {
      "cell_type": "code",
      "execution_count": 1,
      "metadata": {
        "id": "mykSye9o0Z0k",
        "colab": {
          "base_uri": "https://localhost:8080/"
        },
        "outputId": "e87fa7d5-ebdf-4fcd-da84-c156dc3fdaf8"
      },
      "outputs": [
        {
          "output_type": "stream",
          "name": "stdout",
          "text": [
            "Looking in indexes: https://pypi.org/simple, https://us-python.pkg.dev/colab-wheels/public/simple/\n",
            "Requirement already satisfied: gdown==4.3.0 in /usr/local/lib/python3.7/dist-packages (4.3.0)\n",
            "Requirement already satisfied: requests[socks] in /usr/local/lib/python3.7/dist-packages (from gdown==4.3.0) (2.23.0)\n",
            "Requirement already satisfied: filelock in /usr/local/lib/python3.7/dist-packages (from gdown==4.3.0) (3.7.1)\n",
            "Requirement already satisfied: beautifulsoup4 in /usr/local/lib/python3.7/dist-packages (from gdown==4.3.0) (4.6.3)\n",
            "Requirement already satisfied: tqdm in /usr/local/lib/python3.7/dist-packages (from gdown==4.3.0) (4.64.0)\n",
            "Requirement already satisfied: six in /usr/local/lib/python3.7/dist-packages (from gdown==4.3.0) (1.15.0)\n",
            "Requirement already satisfied: chardet<4,>=3.0.2 in /usr/local/lib/python3.7/dist-packages (from requests[socks]->gdown==4.3.0) (3.0.4)\n",
            "Requirement already satisfied: idna<3,>=2.5 in /usr/local/lib/python3.7/dist-packages (from requests[socks]->gdown==4.3.0) (2.10)\n",
            "Requirement already satisfied: urllib3!=1.25.0,!=1.25.1,<1.26,>=1.21.1 in /usr/local/lib/python3.7/dist-packages (from requests[socks]->gdown==4.3.0) (1.24.3)\n",
            "Requirement already satisfied: certifi>=2017.4.17 in /usr/local/lib/python3.7/dist-packages (from requests[socks]->gdown==4.3.0) (2022.6.15)\n",
            "Requirement already satisfied: PySocks!=1.5.7,>=1.5.6 in /usr/local/lib/python3.7/dist-packages (from requests[socks]->gdown==4.3.0) (1.7.1)\n"
          ]
        }
      ],
      "source": [
        "# Import libraries\n",
        "!pip install gdown==4.3.0\n",
        "import gdown\n",
        "from IPython.display import clear_output\n",
        "from scipy.io import loadmat, savemat\n",
        "import numpy as np\n",
        "from matplotlib import pyplot as plt\n",
        "from sklearn import preprocessing\n",
        "from sklearn.utils import class_weight\n",
        "import collections\n",
        "from sklearn.model_selection import train_test_split\n",
        "from tensorflow import keras\n",
        "import tensorflow as tf\n",
        "# GradCam\n",
        "import cv2\n",
        "# Augment function\n",
        "from random import choice\n",
        "import scipy.ndimage as ndi\n",
        "from scipy.ndimage.interpolation import map_coordinates\n",
        "from scipy.ndimage.filters import gaussian_filter\n",
        "\n",
        "## Check gpu availability\n",
        "# device_name = tf.test.gpu_device_name()\n",
        "# if device_name != '/device:GPU:0':\n",
        "#    raise SystemError('GPU device not found')\n",
        "# print('Found GPU at: {}'.format(device_name))"
      ]
    },
    {
      "cell_type": "code",
      "source": [
        "from sklearn.metrics import roc_curve, auc\n",
        "from sklearn.preprocessing import label_binarize\n",
        "from matplotlib.ticker import (MultipleLocator, FormatStrFormatter,\n",
        "                               AutoMinorLocator)"
      ],
      "metadata": {
        "id": "6iCyiMrWYbLw"
      },
      "execution_count": 2,
      "outputs": []
    },
    {
      "cell_type": "markdown",
      "metadata": {
        "id": "DBlPNOoJwfj2"
      },
      "source": [
        "## Functions for augmentation"
      ]
    },
    {
      "cell_type": "code",
      "execution_count": 3,
      "metadata": {
        "id": "ehLSGtcBwfQS"
      },
      "outputs": [],
      "source": [
        "def transform_matrix_offset_center(matrix, x, y):\n",
        "    o_x = float(x) / 2 + 0.5\n",
        "    o_y = float(y) / 2 + 0.5\n",
        "    offset_matrix = np.array([[1, 0, o_x], [0, 1, o_y], [0, 0, 1]])\n",
        "    reset_matrix = np.array([[1, 0, -o_x], [0, 1, -o_y], [0, 0, 1]])\n",
        "    transform_matrix = np.dot(np.dot(offset_matrix, matrix), reset_matrix)\n",
        "    return transform_matrix\n",
        "\n",
        "def apply_transform(x,\n",
        "                    transform_matrix,\n",
        "                    channel_axis=0,\n",
        "                    fill_mode='nearest',\n",
        "                    cval=0.):\n",
        "\n",
        "    x = np.rollaxis(x, channel_axis, 0)\n",
        "    final_affine_matrix = transform_matrix[:2, :2]\n",
        "    final_offset = transform_matrix[:2, 2]\n",
        "    channel_images = [ndi.interpolation.affine_transform(\n",
        "        x_channel,\n",
        "        final_affine_matrix,\n",
        "        final_offset,\n",
        "        order=3,\n",
        "        mode=fill_mode,\n",
        "        cval=cval) for x_channel in x]\n",
        "    x = np.stack(channel_images, axis=0)\n",
        "    x = np.rollaxis(x, 0, channel_axis + 1)\n",
        "    return x\n",
        "\n",
        "# Random shift\n",
        "def random_shift(img, wrg=0.2, hrg=0.2, row_axis=0, col_axis=1, channel_axis=2, fill_mode='nearest', cval=0.):\n",
        "\n",
        "    h, w = img.shape[row_axis], img.shape[col_axis]\n",
        "    tx = np.random.uniform(-hrg, hrg) * h\n",
        "    ty = np.random.uniform(-wrg, wrg) * w\n",
        "    translation_matrix = np.array([[1, 0, tx],\n",
        "                                   [0, 1, ty],\n",
        "                                   [0, 0, 1]])\n",
        "\n",
        "    transform_matrix = translation_matrix\n",
        "    img = apply_transform(img, transform_matrix, channel_axis, fill_mode, cval)\n",
        "    return img\n",
        "\n",
        "# Random zoom\n",
        "def random_zoom(img, zoom_range=(0.88, 1.12), row_axis=0, col_axis=1, channel_axis=2, fill_mode='nearest', cval=0.):\n",
        "\n",
        "    if len(zoom_range) != 2:\n",
        "        raise ValueError('`zoom_range` should be a tuple or list of two floats. '\n",
        "                         'Received arg: ', zoom_range)\n",
        "\n",
        "    if zoom_range[0] == 1 and zoom_range[1] == 1:\n",
        "        zx, zy = 1, 1\n",
        "    else:\n",
        "        zx, zy = np.random.uniform(zoom_range[0], zoom_range[1], 2)\n",
        "    zoom_matrix = np.array([[zx, 0, 0],\n",
        "                            [0, zy, 0],\n",
        "                            [0, 0, 1]])\n",
        "\n",
        "    h, w = img.shape[row_axis], img.shape[col_axis]\n",
        "    transform_matrix = transform_matrix_offset_center(zoom_matrix, h, w)\n",
        "    img = apply_transform(img, transform_matrix, channel_axis, fill_mode, cval)\n",
        "    return img\n",
        "\n",
        "# Elastic transform\n",
        "def elastic_deform(img, alpha=0.2, sigma=0.08, random_state=None):\n",
        "\n",
        "    if random_state is None:\n",
        "        random_state = np.random.RandomState(None)\n",
        "    else:\n",
        "        random_state = np.random.RandomState(random_state)\n",
        "\n",
        "    shape = img.shape\n",
        "    dx = gaussian_filter((random_state.rand(*shape) * 2 - 1), sigma, mode=\"constant\", cval=0) * alpha\n",
        "    dy = gaussian_filter((random_state.rand(*shape) * 2 - 1), sigma, mode=\"constant\", cval=0) * alpha\n",
        "    dz = np.zeros_like(dx)\n",
        "\n",
        "    x, y, z = np.meshgrid(np.arange(shape[0]), np.arange(shape[1]), np.arange(shape[2]))\n",
        "    indices = np.reshape(y+dy, (-1, 1)), np.reshape(x+dx, (-1, 1)), np.reshape(z, (-1, 1))\n",
        "\n",
        "    distored_image = map_coordinates(img, indices, order=1, mode='reflect')\n",
        "    return distored_image.reshape(img.shape)\n",
        "\n",
        "#### BEHZAD: We can have mirror around lateral axis (left to right but not front to back)\n",
        "def mirror_lateral(img, row_axis=0, col_axis=1, channel_axis=2, fill_mode='nearest', cval=0.):\n",
        "\n",
        "    h, w = img.shape[row_axis], img.shape[col_axis]\n",
        "    translation_matrix = np.array([[1, 0, 0],\n",
        "                                   [0, -1, 0],\n",
        "                                   [0, 0, 1]])\n",
        "\n",
        "    transform_matrix = transform_matrix_offset_center(translation_matrix, h, w)\n",
        "    img = apply_transform(img, transform_matrix, channel_axis, fill_mode, cval)\n",
        "    return img\n",
        "\n",
        "\n",
        "# FillMode = 'constant', 'nearest', 'reflect', 'wrap'\n",
        "fns = [random_shift, random_zoom, elastic_deform] # Based on the reviewer comments we removed \"mirror_lateral\""
      ]
    },
    {
      "cell_type": "markdown",
      "metadata": {
        "id": "lM0HddKVW-S7"
      },
      "source": [
        "## Data preparation"
      ]
    },
    {
      "cell_type": "code",
      "execution_count": 4,
      "metadata": {
        "colab": {
          "base_uri": "https://localhost:8080/"
        },
        "id": "gNC_rPG8eM_n",
        "outputId": "84ebec95-92fa-4848-f045-5e9223f96f16"
      },
      "outputs": [
        {
          "output_type": "stream",
          "name": "stdout",
          "text": [
            "The download was successful\n"
          ]
        }
      ],
      "source": [
        "# Download Data\n",
        "#Links = {\n",
        "#    'data.mat' : '1yXvY1u2Pbqsv2joCljf6zHc53AxEY7su', \n",
        "#}\n",
        "# New data \n",
        "Links = {\n",
        "    #'data.mat' : '1T1cNIAtPGGMfFWXmPzJ-sZJeyGbNmu2r', \n",
        "     'data.mat'  :  '1mP7t9TlT1F4854PPV3FLgirI_XbMP1VK', # Primary dataset from openneuro\n",
        "     #'data.mat' : '1CsXodGAjq28zU2UMVrG5jC_pZJocvEZC', # Secondary dataset from OSF, this gives out of memory!!!!\n",
        "    }\n",
        "\n",
        "for Item in Links:\n",
        "  url = f'https://drive.google.com/uc?id={Links[Item]}'\n",
        "  gdown.download(url, Item, quiet=False)\n",
        "  clear_output(wait=True)\n",
        "print('The download was successful')"
      ]
    },
    {
      "cell_type": "code",
      "execution_count": 5,
      "metadata": {
        "id": "YBaKZJNKi8rr"
      },
      "outputs": [],
      "source": [
        "# Read data\n",
        "\n",
        "Data = loadmat('data.mat')\n",
        "\n",
        "Images = np.array([Data['dat'][0, 0]['Image'][0, Item] for Item in range(len(Data['dat'][0, 0]['Image'][0]))]).astype('float32')\n",
        "Images = np.nan_to_num(Images)\n",
        "Labels = [Data['dat'][0, 0]['Lable'][0, Item][0] for Item in range(len(Data['dat'][0, 0]['Lable'][0]))]\n",
        "FileNames = [Data['dat'][0, 0]['file'][0, Item][0] for Item in range(len(Data['dat'][0, 0]['file'][0]))]\n",
        "\n",
        "del Data"
      ]
    },
    {
      "cell_type": "code",
      "execution_count": 6,
      "metadata": {
        "id": "fFk2CStW5Mg6",
        "colab": {
          "base_uri": "https://localhost:8080/",
          "height": 0
        },
        "outputId": "93fc087e-79ef-43e9-c363-1891536f0e38"
      },
      "outputs": [
        {
          "output_type": "display_data",
          "data": {
            "text/plain": [
              "<Figure size 432x288 with 5 Axes>"
            ],
            "image/png": "[encoded data removed]"
          },
          "metadata": {
            "needs_background": "light"
          }
        }
      ],
      "source": [
        "index = 5002\n",
        "fig, axs = plt.subplots(1,5)\n",
        "axs[0].imshow(Images[index][:, :, 10]) \n",
        "axs[0].set_yticks([])\n",
        "axs[0].set_xticks([]) \n",
        "axs[0].set_title('Original')\n",
        "\n",
        "tmp = random_shift(Images[index])\n",
        "axs[1].imshow(tmp[:,:,10])\n",
        "axs[1].set_yticks([])\n",
        "axs[1].set_xticks([])\n",
        "axs[1].set_title('Random shift')\n",
        "\n",
        "tmp = random_zoom(Images[index])\n",
        "axs[2].imshow(tmp[:,:,10])\n",
        "axs[2].set_yticks([])\n",
        "axs[2].set_xticks([])\n",
        "axs[2].set_title('Random zoom')\n",
        "\n",
        "\n",
        "tmp = elastic_deform(Images[index])\n",
        "axs[3].imshow(tmp[:,:,10])\n",
        "axs[3].set_yticks([])\n",
        "axs[3].set_xticks([])\n",
        "axs[3].set_title('Elastic deform')\n",
        "\n",
        "\n",
        "plt.savefig('Augmentation.png', dpi=300)\n",
        "plt.savefig('Augmentation.svg')"
      ]
    },
    {
      "cell_type": "code",
      "execution_count": 7,
      "metadata": {
        "id": "FC8ncFWsCHlA"
      },
      "outputs": [],
      "source": [
        "# Label encoding\n",
        "y = preprocessing.LabelEncoder()\n",
        "y.fit(Labels)\n",
        "y = y.transform(Labels)"
      ]
    },
    {
      "cell_type": "code",
      "execution_count": 8,
      "metadata": {
        "id": "va51lb233EMX",
        "colab": {
          "base_uri": "https://localhost:8080/"
        },
        "outputId": "d7de9120-62ba-4cc4-e413-5b975670f58a"
      },
      "outputs": [
        {
          "output_type": "stream",
          "name": "stdout",
          "text": [
            "Counter({'pd_on': 3120, 'pd_off': 3000, 'control': 2946})\n",
            "Counter({2: 3120, 1: 3000, 0: 2946})\n"
          ]
        }
      ],
      "source": [
        "print(collections.Counter(Labels))\n",
        "print(collections.Counter(y))"
      ]
    },
    {
      "cell_type": "code",
      "execution_count": 9,
      "metadata": {
        "id": "qoAlnhUkGbxX"
      },
      "outputs": [],
      "source": [
        "# Train/Test/Validation Set Splitting\n",
        "x_train, x_rem, y_train_int, y_rem_int = train_test_split(Images, y, test_size=0.25, random_state=4, stratify=y) # increased test/validation from .15 to .25\n",
        "x_valid, x_test, y_valid_int, y_test_int = train_test_split(x_rem, y_rem_int, test_size=0.5, random_state=4, stratify=y_rem_int)\n",
        "\n",
        "del x_rem, y_rem_int, Images, Labels"
      ]
    },
    {
      "cell_type": "code",
      "execution_count": 10,
      "metadata": {
        "id": "Uc4h05tW4Hkv"
      },
      "outputs": [],
      "source": [
        "# Define and quantify variables\n",
        "\n",
        "DataShape = (x_train.shape[1], x_train.shape[2], x_train.shape[3])\n",
        "n_classes = len(np.unique(y))\n",
        "# n_classes = len(set(y))\n",
        "\n",
        "batch_size = 25 # BEHZAD changed this from 50 to 25, to get more samples per batch  #2\n",
        "dropout_rate = 0.5\n",
        "epochs = 100     \n",
        "learning_rate = 1e-4\n",
        "\n",
        "tf.random.set_seed(123)\n",
        "\n",
        "# GradCam\n",
        "NewDataShape = (x_train.shape[1], x_train.shape[2], x_train.shape[3])"
      ]
    },
    {
      "cell_type": "code",
      "execution_count": 11,
      "metadata": {
        "id": "JxJL0myD7DaC"
      },
      "outputs": [],
      "source": [
        "# Data augmentation\n",
        "\n",
        "AugmentedData = np.zeros((len(x_train), DataShape[0], DataShape[1], DataShape[2]))\n",
        "AugmentedDataY = []\n",
        "\n",
        "for Index, (Item_X, Item_Y) in enumerate(zip(x_train, y_train_int)):\n",
        "  AugmentedData[Index, :, :, :] = choice(fns)(Item_X)\n",
        "  AugmentedDataY.append(Item_Y)\n",
        "\n",
        "AugmentedDataY = np.array(AugmentedDataY)\n",
        "\n",
        "x_train = np.concatenate((x_train, AugmentedData), axis=0)\n",
        "y_train_int = np.concatenate((y_train_int, AugmentedDataY), axis=0)\n",
        "\n",
        "del AugmentedDataY"
      ]
    },
    {
      "cell_type": "code",
      "execution_count": 12,
      "metadata": {
        "id": "F7C7tiHM_G-s",
        "colab": {
          "base_uri": "https://localhost:8080/"
        },
        "outputId": "14c9bf17-f8d6-420d-b3da-f424426d1a20"
      },
      "outputs": [
        {
          "output_type": "stream",
          "name": "stdout",
          "text": [
            "({0: 1.0259544288516673, 1: 1.0072592592592593, 2: 0.9685185185185186},)\n"
          ]
        }
      ],
      "source": [
        "# Adding class weights\n",
        "\n",
        "class_weights = class_weight.compute_class_weight(class_weight = \"balanced\",\n",
        "                                                  classes = np.unique(y_train_int),\n",
        "                                                  y = y_train_int)\n",
        "\n",
        "class_weights = dict(zip(np.unique(y_train_int), class_weights)),\n",
        "\n",
        "print(class_weights)"
      ]
    },
    {
      "cell_type": "code",
      "execution_count": 13,
      "metadata": {
        "id": "9-nUIJu2YS-N",
        "colab": {
          "base_uri": "https://localhost:8080/",
          "height": 0
        },
        "outputId": "d70a533d-5908-4888-f1b5-2d0bc306bdf6"
      },
      "outputs": [
        {
          "output_type": "display_data",
          "data": {
            "text/plain": [
              "<Figure size 432x288 with 2 Axes>"
            ],
            "image/png": "[encoded data removed]"
          },
          "metadata": {
            "needs_background": "light"
          }
        }
      ],
      "source": [
        "plt.imshow(x_train[5000][:, :, 10])\n",
        "plt.colorbar()\n",
        "plt.show()"
      ]
    },
    {
      "cell_type": "code",
      "execution_count": 14,
      "metadata": {
        "id": "mVvZ6UkT7REj",
        "colab": {
          "base_uri": "https://localhost:8080/"
        },
        "outputId": "713432c9-1f56-4c3c-8622-7b6b32f9bd2d"
      },
      "outputs": [
        {
          "output_type": "stream",
          "name": "stdout",
          "text": [
            "(13598, 20, 20, 50)\n",
            "Counter({2: 4680, 1: 4500, 0: 4418})\n",
            "(1133, 20, 20, 50)\n",
            "Counter({2: 390, 1: 375, 0: 368})\n",
            "(1134, 20, 20, 50)\n",
            "Counter({2: 390, 1: 375, 0: 369})\n"
          ]
        }
      ],
      "source": [
        "print(x_train.shape)\n",
        "print(collections.Counter(y_train_int))\n",
        "print(x_valid.shape)\n",
        "print(collections.Counter(y_valid_int))\n",
        "print(x_test.shape)\n",
        "print(collections.Counter(y_test_int))"
      ]
    },
    {
      "cell_type": "code",
      "execution_count": 15,
      "metadata": {
        "id": "xi0du0eWz0ve"
      },
      "outputs": [],
      "source": [
        "def spatial_zscore(X): # BEHZAD added this but ended up not using it\n",
        "  [s0,s1,s2,s3] = X.shape\n",
        "  Xz =[]\n",
        "  for i in range(s0):\n",
        "    xmean = np.tile(np.nanmean(np.reshape(X[i],[s1*s2,s3]), axis = 0), [s1,s2,1]);\n",
        "    xstd = np.tile(np.nanstd(np.reshape(X[i],[s1*s2,s3]), axis = 0),[s1,s2,1]);\n",
        "    Xz.append((X[i]-xmean)/xstd)\n",
        "  return Xz"
      ]
    },
    {
      "cell_type": "code",
      "execution_count": 16,
      "metadata": {
        "id": "kEuqyB3CdKlO"
      },
      "outputs": [],
      "source": [
        "# z-scoring to normalize the data # BEHZAD commented out this because resampled data to normal dist.\n",
        "\n",
        "#x_mean = np.mean(np.concatenate((x_train, x_valid, x_test), axis = 0)) # BEHZAD chagned this to all three\n",
        "#x_std = np.std(np.concatenate((x_train, x_valid, x_test), axis = 0)) # BEHZAD chagned this to all three\n",
        "#x_train = (x_train - x_mean)/x_std\n",
        "#x_valid = (x_valid - x_mean)/x_std\n",
        "#x_test = (x_test - x_mean)/x_std\n",
        "\n",
        "#del x_mean, x_std\n",
        "# changed it to within sample z-scoring\n",
        "#TRAIN\n",
        "#x_train      = spatial_zscore(x_train)\n",
        "# convert to ndarray\n",
        "#x_train = np.asarray(x_train)\n",
        "#VALID\n",
        "#x_valid      = spatial_zscore(x_valid)\n",
        "# convert to ndarray\n",
        "#x_valid  = np.asarray(x_valid)\n",
        "#TEST\n",
        "#x_test       = spatial_zscore(x_test)\n",
        "# convert to ndarray\n",
        "#x_test = np.asarray(x_test)"
      ]
    },
    {
      "cell_type": "code",
      "execution_count": 17,
      "metadata": {
        "id": "1aqcDFejUFTM",
        "colab": {
          "base_uri": "https://localhost:8080/",
          "height": 0
        },
        "outputId": "08088f31-76b5-4ece-bbb7-ef38ed2271c6"
      },
      "outputs": [
        {
          "output_type": "display_data",
          "data": {
            "text/plain": [
              "<Figure size 432x288 with 2 Axes>"
            ],
            "image/png": "[encoded data removed]"
          },
          "metadata": {
            "needs_background": "light"
          }
        },
        {
          "output_type": "stream",
          "name": "stdout",
          "text": [
            "1\n"
          ]
        }
      ],
      "source": [
        "plt.imshow(x_train[304][:, :, 48])\n",
        "plt.colorbar()\n",
        "plt.show()\n",
        "print(y_train_int[304])"
      ]
    },
    {
      "cell_type": "markdown",
      "metadata": {
        "id": "pOMJawB3WxxQ"
      },
      "source": [
        "## 3D convolutional neural network"
      ]
    },
    {
      "cell_type": "code",
      "execution_count": 18,
      "metadata": {
        "id": "LT4MM_f4cDpe"
      },
      "outputs": [],
      "source": [
        "y_train = keras.utils.to_categorical(y_train_int, num_classes=n_classes)\n",
        "y_valid = keras.utils.to_categorical(y_valid_int, num_classes=n_classes)\n",
        "y_test = keras.utils.to_categorical(y_test_int, num_classes=n_classes)"
      ]
    },
    {
      "cell_type": "code",
      "execution_count": 19,
      "metadata": {
        "id": "S1N1gRHnEfNp"
      },
      "outputs": [],
      "source": [
        "@tf.function\n",
        "\n",
        "def train_preprocessing(volume, label):\n",
        "    volume = tf.expand_dims(volume, axis=3)\n",
        "    return volume, label\n",
        "\n",
        "def validation_preprocessing(volume, label):\n",
        "    volume = tf.expand_dims(volume, axis=3)\n",
        "    return volume, label"
      ]
    },
    {
      "cell_type": "code",
      "execution_count": 20,
      "metadata": {
        "id": "4GA6nqugGSGb"
      },
      "outputs": [],
      "source": [
        "train_loader = tf.data.Dataset.from_tensor_slices((x_train, y_train))\n",
        "validation_loader = tf.data.Dataset.from_tensor_slices((x_valid, y_valid))\n",
        "\n",
        "train_dataset = (\n",
        "    train_loader.shuffle(len(x_train))\n",
        "    .map(train_preprocessing)\n",
        "    .batch(batch_size)\n",
        "    .prefetch(2)\n",
        ")\n",
        "\n",
        "validation_dataset = (\n",
        "    validation_loader.shuffle(len(x_valid))\n",
        "    .map(validation_preprocessing)\n",
        "    .batch(batch_size)\n",
        "    .prefetch(2)\n",
        ")"
      ]
    },
    {
      "cell_type": "code",
      "execution_count": 21,
      "metadata": {
        "id": "ki0saOV1Hs9U",
        "colab": {
          "base_uri": "https://localhost:8080/",
          "height": 301
        },
        "outputId": "9f3764be-bd5f-486f-96b1-42ef582a4ae3"
      },
      "outputs": [
        {
          "output_type": "stream",
          "name": "stdout",
          "text": [
            "Dimension of the img is: (20, 20, 50, 1)\n"
          ]
        },
        {
          "output_type": "execute_result",
          "data": {
            "text/plain": [
              "<matplotlib.image.AxesImage at 0x7ff9805922d0>"
            ]
          },
          "metadata": {},
          "execution_count": 21
        },
        {
          "output_type": "display_data",
          "data": {
            "text/plain": [
              "<Figure size 432x288 with 1 Axes>"
            ],
            "image/png": "[encoded data removed]"
          },
          "metadata": {
            "needs_background": "light"
          }
        }
      ],
      "source": [
        "data = train_dataset.take(1)\n",
        "images, labels = list(data)[0]\n",
        "images = images.numpy()\n",
        "image = images[0]\n",
        "print(\"Dimension of the img is:\", image.shape)\n",
        "plt.imshow(np.squeeze(image[:, :, 30]))"
      ]
    },
    {
      "cell_type": "code",
      "execution_count": 22,
      "metadata": {
        "id": "wk7BNxY9H8pI",
        "colab": {
          "base_uri": "https://localhost:8080/",
          "height": 463
        },
        "outputId": "ce84a89b-666a-4f71-e120-350cf41c22b1"
      },
      "outputs": [
        {
          "output_type": "display_data",
          "data": {
            "text/plain": [
              "<Figure size 864x432 with 50 Axes>"
            ],
            "image/png": "[encoded data removed]"
          },
          "metadata": {
            "needs_background": "light"
          }
        }
      ],
      "source": [
        "def plot_slices(num_rows, num_columns, width, height, data):\n",
        "    data = np.rot90(np.array(data))\n",
        "    data = np.transpose(data)\n",
        "    data = np.reshape(data, (num_rows, num_columns, width, height))\n",
        "    rows_data, columns_data = data.shape[0], data.shape[1]\n",
        "    heights = [slc[0].shape[0] for slc in data]\n",
        "    widths = [slc.shape[1] for slc in data[0]]\n",
        "    fig_width = 12.0\n",
        "    fig_height = fig_width * sum(heights) / sum(widths)\n",
        "    f, axarr = plt.subplots(\n",
        "        rows_data,\n",
        "        columns_data,\n",
        "        figsize=(fig_width, fig_height),\n",
        "        gridspec_kw={\"height_ratios\": heights},\n",
        "    )\n",
        "    for i in range(rows_data):\n",
        "        for j in range(columns_data):\n",
        "            axarr[i, j].imshow(data[i][j], cmap=\"jet\")\n",
        "            axarr[i, j].axis(\"off\")\n",
        "    plt.subplots_adjust(wspace=0, hspace=0, left=0, right=1, bottom=0, top=1)\n",
        "    plt.show()\n",
        "\n",
        "\n",
        "# Visualize montage of slices.\n",
        "plot_slices(5, 10, DataShape[0], DataShape[1], image[:, :, :50])"
      ]
    },
    {
      "cell_type": "code",
      "execution_count": 23,
      "metadata": {
        "id": "oOs9aDVPIXjO"
      },
      "outputs": [],
      "source": [
        "def get_model(width=DataShape[0], height=DataShape[1], depth=DataShape[2]):\n",
        "  \n",
        "  initializer = keras.initializers.GlorotNormal()\n",
        "  # initializer = keras.initializers.GlorotUniform()\n",
        "\n",
        "  inputs = keras.Input((width, height, depth, 1))\n",
        "\n",
        "  x = keras.layers.Conv3D(filters=2, kernel_size=(3, 3, 3), strides=(1, 1, 1), padding='same', activation=\"sigmoid\", kernel_initializer=initializer, kernel_regularizer = tf.keras.regularizers.l1_l2(l1=1e-4, l2=1e-2), use_bias=True)(inputs)\n",
        "  x = keras.layers.AveragePooling3D(pool_size=(2, 2, 2), strides=(2, 2, 2), padding='same')(x)\n",
        "\n",
        "  x = keras.layers.Conv3D(filters=3, kernel_size=(3, 3, 3), strides=(1, 1, 1), padding='same', activation=\"sigmoid\", kernel_initializer=initializer, kernel_regularizer = tf.keras.regularizers.l1_l2(l1=1e-4, l2=1e-2), use_bias=True)(x)\n",
        "  x = keras.layers.AveragePooling3D(pool_size=(2, 2, 2), strides=(2, 2, 2), padding='same')(x)\n",
        "\n",
        "  x = keras.layers.Conv3D(filters=3, kernel_size=(3, 3, 3), strides=(1, 1, 1), padding='same', activation=\"sigmoid\", kernel_initializer=initializer, kernel_regularizer = tf.keras.regularizers.l1_l2(l1=1e-4, l2=1e-2), use_bias=True)(x)\n",
        "  x = keras.layers.AveragePooling3D(pool_size=(2, 2, 2), strides=(2, 2, 2), padding='same')(x)\n",
        "  \n",
        "  x = keras.layers.BatchNormalization(scale=False, center=False)(x) #\n",
        "  #x = keras.layers.GlobalMaxPooling3D()(x)\n",
        "  \n",
        "  # x = keras.layers.GlobalAveragePooling3D()(x)\n",
        "  x = keras.layers.Flatten()(x)\n",
        "  \n",
        "  #x = keras.layers.Dense(units=3, activation=\"linear\", kernel_initializer=initializer, kernel_regularizer = tf.keras.regularizers.l1_l2(l1=1e-4, l2=1e-3))(x)\n",
        "  x = keras.layers.Dropout(dropout_rate)(x)\n",
        "  x = keras.layers.ReLU()(x)\n",
        "  # outputs = keras.layers.Dense(units=n_classes, activation=\"sigmoid\")(x)\n",
        "  # outputs = keras.layers.Dense(units=n_classes, activation=\"softmax\", kernel_initializer=initializer)(x)\n",
        "  outputs = keras.layers.Dense(units=n_classes, activation=\"softmax\", kernel_initializer=initializer, kernel_regularizer = tf.keras.regularizers.l1_l2(l1=1e-4, l2=1e-2))(x)\n",
        "\n",
        "  # Define the model.\n",
        "  model = keras.Model(inputs, outputs, name=\"Parkinson3D\")\n",
        "  return model"
      ]
    },
    {
      "cell_type": "code",
      "execution_count": 24,
      "metadata": {
        "id": "XfH8fl2bGnxL",
        "colab": {
          "base_uri": "https://localhost:8080/"
        },
        "outputId": "81ab8eb6-a956-4bb6-eb92-1d4fe8e33b8c"
      },
      "outputs": [
        {
          "output_type": "stream",
          "name": "stdout",
          "text": [
            "Model: \"Parkinson3D\"\n",
            "_________________________________________________________________\n",
            " Layer (type)                Output Shape              Param #   \n",
            "=================================================================\n",
            " input_1 (InputLayer)        [(None, 20, 20, 50, 1)]   0         \n",
            "                                                                 \n",
            " conv3d (Conv3D)             (None, 20, 20, 50, 2)     56        \n",
            "                                                                 \n",
            " average_pooling3d (AverageP  (None, 10, 10, 25, 2)    0         \n",
            " ooling3D)                                                       \n",
            "                                                                 \n",
            " conv3d_1 (Conv3D)           (None, 10, 10, 25, 3)     165       \n",
            "                                                                 \n",
            " average_pooling3d_1 (Averag  (None, 5, 5, 13, 3)      0         \n",
            " ePooling3D)                                                     \n",
            "                                                                 \n",
            " conv3d_2 (Conv3D)           (None, 5, 5, 13, 3)       246       \n",
            "                                                                 \n",
            " average_pooling3d_2 (Averag  (None, 3, 3, 7, 3)       0         \n",
            " ePooling3D)                                                     \n",
            "                                                                 \n",
            " batch_normalization (BatchN  (None, 3, 3, 7, 3)       6         \n",
            " ormalization)                                                   \n",
            "                                                                 \n",
            " flatten (Flatten)           (None, 189)               0         \n",
            "                                                                 \n",
            " dropout (Dropout)           (None, 189)               0         \n",
            "                                                                 \n",
            " re_lu (ReLU)                (None, 189)               0         \n",
            "                                                                 \n",
            " dense (Dense)               (None, 3)                 570       \n",
            "                                                                 \n",
            "=================================================================\n",
            "Total params: 1,043\n",
            "Trainable params: 1,037\n",
            "Non-trainable params: 6\n",
            "_________________________________________________________________\n"
          ]
        }
      ],
      "source": [
        "# Build model.\n",
        "\n",
        "model = get_model(width=DataShape[0], height=DataShape[1], depth=DataShape[2])\n",
        "model.summary()"
      ]
    },
    {
      "cell_type": "code",
      "execution_count": 25,
      "metadata": {
        "id": "kbnLIxhegz70",
        "colab": {
          "base_uri": "https://localhost:8080/"
        },
        "outputId": "c7971071-bcbe-45ce-9e88-b800839ee3a4"
      },
      "outputs": [
        {
          "output_type": "stream",
          "name": "stdout",
          "text": [
            "Epoch 1/100\n",
            "544/544 [==============================] - 17s 10ms/step - loss: 1.3218 - acc: 0.3300 - val_loss: 1.2055 - val_acc: 0.3310\n",
            "Epoch 2/100\n",
            "544/544 [==============================] - 6s 10ms/step - loss: 1.2243 - acc: 0.3372 - val_loss: 1.1874 - val_acc: 0.4237\n",
            "Epoch 3/100\n",
            "544/544 [==============================] - 5s 9ms/step - loss: 1.1931 - acc: 0.3461 - val_loss: 1.1752 - val_acc: 0.4863\n",
            "Epoch 4/100\n",
            "544/544 [==============================] - 5s 9ms/step - loss: 1.1754 - acc: 0.3595 - val_loss: 1.1621 - val_acc: 0.4475\n",
            "Epoch 5/100\n",
            "544/544 [==============================] - 5s 9ms/step - loss: 1.1593 - acc: 0.4023 - val_loss: 1.1491 - val_acc: 0.4748\n",
            "Epoch 6/100\n",
            "544/544 [==============================] - 5s 9ms/step - loss: 1.1448 - acc: 0.4211 - val_loss: 1.1342 - val_acc: 0.4872\n",
            "Epoch 7/100\n",
            "544/544 [==============================] - 5s 9ms/step - loss: 1.1326 - acc: 0.4380 - val_loss: 1.1236 - val_acc: 0.4934\n",
            "Epoch 8/100\n",
            "544/544 [==============================] - 5s 8ms/step - loss: 1.1203 - acc: 0.4601 - val_loss: 1.1166 - val_acc: 0.5110\n",
            "Epoch 9/100\n",
            "544/544 [==============================] - 5s 9ms/step - loss: 1.1115 - acc: 0.4634 - val_loss: 1.1049 - val_acc: 0.5102\n",
            "Epoch 10/100\n",
            "544/544 [==============================] - 5s 9ms/step - loss: 1.1071 - acc: 0.4682 - val_loss: 1.1004 - val_acc: 0.5022\n",
            "Epoch 11/100\n",
            "544/544 [==============================] - 5s 9ms/step - loss: 1.0996 - acc: 0.4776 - val_loss: 1.0919 - val_acc: 0.5093\n",
            "Epoch 12/100\n",
            "544/544 [==============================] - 6s 11ms/step - loss: 1.0961 - acc: 0.4806 - val_loss: 1.0938 - val_acc: 0.5013\n",
            "Epoch 13/100\n",
            "544/544 [==============================] - 5s 9ms/step - loss: 1.0932 - acc: 0.4807 - val_loss: 1.0855 - val_acc: 0.5234\n",
            "Epoch 14/100\n",
            "544/544 [==============================] - 5s 9ms/step - loss: 1.0845 - acc: 0.4945 - val_loss: 1.0746 - val_acc: 0.5269\n",
            "Epoch 15/100\n",
            "544/544 [==============================] - 5s 9ms/step - loss: 1.0811 - acc: 0.4957 - val_loss: 1.0765 - val_acc: 0.5393\n",
            "Epoch 16/100\n",
            "544/544 [==============================] - 5s 9ms/step - loss: 1.0756 - acc: 0.4996 - val_loss: 1.0741 - val_acc: 0.5146\n",
            "Epoch 17/100\n",
            "544/544 [==============================] - 5s 9ms/step - loss: 1.0709 - acc: 0.5039 - val_loss: 1.0642 - val_acc: 0.5499\n",
            "Epoch 18/100\n",
            "544/544 [==============================] - 5s 9ms/step - loss: 1.0697 - acc: 0.5062 - val_loss: 1.0577 - val_acc: 0.5499\n",
            "Epoch 19/100\n",
            "544/544 [==============================] - 5s 9ms/step - loss: 1.0677 - acc: 0.5062 - val_loss: 1.0568 - val_acc: 0.5534\n",
            "Epoch 20/100\n",
            "544/544 [==============================] - 5s 9ms/step - loss: 1.0633 - acc: 0.5106 - val_loss: 1.0525 - val_acc: 0.5613\n",
            "Epoch 21/100\n",
            "544/544 [==============================] - 8s 14ms/step - loss: 1.0624 - acc: 0.5108 - val_loss: 1.0493 - val_acc: 0.5552\n",
            "Epoch 22/100\n",
            "544/544 [==============================] - 5s 9ms/step - loss: 1.0603 - acc: 0.5118 - val_loss: 1.0445 - val_acc: 0.5693\n",
            "Epoch 23/100\n",
            "544/544 [==============================] - 5s 9ms/step - loss: 1.0582 - acc: 0.5168 - val_loss: 1.0403 - val_acc: 0.5711\n",
            "Epoch 24/100\n",
            "544/544 [==============================] - 5s 9ms/step - loss: 1.0568 - acc: 0.5211 - val_loss: 1.0398 - val_acc: 0.5737\n",
            "Epoch 25/100\n",
            "544/544 [==============================] - 5s 9ms/step - loss: 1.0543 - acc: 0.5226 - val_loss: 1.0387 - val_acc: 0.5666\n",
            "Epoch 26/100\n",
            "544/544 [==============================] - 6s 10ms/step - loss: 1.0502 - acc: 0.5231 - val_loss: 1.0361 - val_acc: 0.5605\n",
            "Epoch 27/100\n",
            "544/544 [==============================] - 5s 9ms/step - loss: 1.0515 - acc: 0.5244 - val_loss: 1.0317 - val_acc: 0.5808\n",
            "Epoch 28/100\n",
            "544/544 [==============================] - 5s 9ms/step - loss: 1.0508 - acc: 0.5211 - val_loss: 1.0309 - val_acc: 0.5640\n",
            "Epoch 29/100\n",
            "544/544 [==============================] - 5s 9ms/step - loss: 1.0492 - acc: 0.5213 - val_loss: 1.0279 - val_acc: 0.5816\n",
            "Epoch 30/100\n",
            "544/544 [==============================] - 5s 9ms/step - loss: 1.0483 - acc: 0.5257 - val_loss: 1.0274 - val_acc: 0.5869\n",
            "Epoch 31/100\n",
            "544/544 [==============================] - 5s 9ms/step - loss: 1.0449 - acc: 0.5274 - val_loss: 1.0233 - val_acc: 0.5958\n",
            "Epoch 32/100\n",
            "544/544 [==============================] - 5s 9ms/step - loss: 1.0435 - acc: 0.5287 - val_loss: 1.0229 - val_acc: 0.5905\n",
            "Epoch 33/100\n",
            "544/544 [==============================] - 5s 9ms/step - loss: 1.0460 - acc: 0.5278 - val_loss: 1.0233 - val_acc: 0.5940\n",
            "Epoch 34/100\n",
            "544/544 [==============================] - 5s 9ms/step - loss: 1.0414 - acc: 0.5265 - val_loss: 1.0171 - val_acc: 0.5914\n",
            "Epoch 35/100\n",
            "544/544 [==============================] - 5s 9ms/step - loss: 1.0400 - acc: 0.5365 - val_loss: 1.0170 - val_acc: 0.5816\n",
            "Epoch 36/100\n",
            "544/544 [==============================] - 5s 9ms/step - loss: 1.0409 - acc: 0.5302 - val_loss: 1.0131 - val_acc: 0.5922\n",
            "Epoch 37/100\n",
            "544/544 [==============================] - 5s 10ms/step - loss: 1.0392 - acc: 0.5345 - val_loss: 1.0117 - val_acc: 0.5922\n",
            "Epoch 38/100\n",
            "544/544 [==============================] - 5s 9ms/step - loss: 1.0399 - acc: 0.5335 - val_loss: 1.0183 - val_acc: 0.5719\n",
            "Epoch 39/100\n",
            "544/544 [==============================] - 5s 9ms/step - loss: 1.0395 - acc: 0.5288 - val_loss: 1.0127 - val_acc: 0.5755\n",
            "Epoch 40/100\n",
            "544/544 [==============================] - 5s 9ms/step - loss: 1.0356 - acc: 0.5358 - val_loss: 1.0100 - val_acc: 0.5861\n",
            "Epoch 41/100\n",
            "544/544 [==============================] - 5s 9ms/step - loss: 1.0368 - acc: 0.5340 - val_loss: 1.0136 - val_acc: 0.5737\n",
            "Epoch 42/100\n",
            "544/544 [==============================] - 5s 9ms/step - loss: 1.0366 - acc: 0.5291 - val_loss: 1.0148 - val_acc: 0.5684\n",
            "Epoch 43/100\n",
            "544/544 [==============================] - 5s 9ms/step - loss: 1.0352 - acc: 0.5359 - val_loss: 1.0133 - val_acc: 0.5887\n",
            "Epoch 44/100\n",
            "544/544 [==============================] - 5s 9ms/step - loss: 1.0334 - acc: 0.5385 - val_loss: 1.0087 - val_acc: 0.5808\n",
            "Epoch 45/100\n",
            "544/544 [==============================] - 5s 9ms/step - loss: 1.0347 - acc: 0.5341 - val_loss: 1.0051 - val_acc: 0.5922\n",
            "Epoch 46/100\n",
            "544/544 [==============================] - 5s 9ms/step - loss: 1.0332 - acc: 0.5427 - val_loss: 1.0054 - val_acc: 0.5808\n",
            "Epoch 47/100\n",
            "544/544 [==============================] - 5s 9ms/step - loss: 1.0306 - acc: 0.5376 - val_loss: 1.0019 - val_acc: 0.6108\n",
            "Epoch 48/100\n",
            "544/544 [==============================] - 5s 9ms/step - loss: 1.0285 - acc: 0.5387 - val_loss: 0.9998 - val_acc: 0.5958\n",
            "Epoch 49/100\n",
            "544/544 [==============================] - 5s 9ms/step - loss: 1.0329 - acc: 0.5392 - val_loss: 1.0000 - val_acc: 0.5993\n",
            "Epoch 50/100\n",
            "544/544 [==============================] - 5s 9ms/step - loss: 1.0301 - acc: 0.5418 - val_loss: 1.0032 - val_acc: 0.5905\n",
            "Epoch 51/100\n",
            "544/544 [==============================] - 5s 9ms/step - loss: 1.0329 - acc: 0.5404 - val_loss: 1.0015 - val_acc: 0.6011\n",
            "Epoch 52/100\n",
            "544/544 [==============================] - 5s 9ms/step - loss: 1.0304 - acc: 0.5377 - val_loss: 1.0008 - val_acc: 0.6037\n",
            "Epoch 53/100\n",
            "544/544 [==============================] - 5s 9ms/step - loss: 1.0266 - acc: 0.5406 - val_loss: 0.9969 - val_acc: 0.6046\n",
            "Epoch 54/100\n",
            "544/544 [==============================] - 5s 9ms/step - loss: 1.0291 - acc: 0.5435 - val_loss: 0.9973 - val_acc: 0.5993\n",
            "Epoch 55/100\n",
            "544/544 [==============================] - 5s 9ms/step - loss: 1.0259 - acc: 0.5438 - val_loss: 0.9947 - val_acc: 0.6081\n",
            "Epoch 56/100\n",
            "544/544 [==============================] - 5s 9ms/step - loss: 1.0277 - acc: 0.5407 - val_loss: 0.9997 - val_acc: 0.5852\n",
            "Epoch 57/100\n",
            "544/544 [==============================] - 5s 9ms/step - loss: 1.0259 - acc: 0.5462 - val_loss: 0.9946 - val_acc: 0.6108\n",
            "Epoch 58/100\n",
            "544/544 [==============================] - 5s 9ms/step - loss: 1.0298 - acc: 0.5441 - val_loss: 0.9961 - val_acc: 0.5984\n",
            "Epoch 59/100\n",
            "544/544 [==============================] - 5s 9ms/step - loss: 1.0241 - acc: 0.5501 - val_loss: 0.9944 - val_acc: 0.6125\n",
            "Epoch 60/100\n",
            "544/544 [==============================] - 5s 9ms/step - loss: 1.0223 - acc: 0.5452 - val_loss: 0.9947 - val_acc: 0.6072\n",
            "Epoch 61/100\n",
            "544/544 [==============================] - 5s 9ms/step - loss: 1.0259 - acc: 0.5455 - val_loss: 0.9924 - val_acc: 0.6064\n",
            "Epoch 62/100\n",
            "544/544 [==============================] - 5s 9ms/step - loss: 1.0259 - acc: 0.5461 - val_loss: 0.9922 - val_acc: 0.5984\n",
            "Epoch 63/100\n",
            "544/544 [==============================] - 5s 9ms/step - loss: 1.0236 - acc: 0.5478 - val_loss: 0.9899 - val_acc: 0.6055\n",
            "Epoch 64/100\n",
            "544/544 [==============================] - 5s 9ms/step - loss: 1.0234 - acc: 0.5454 - val_loss: 0.9921 - val_acc: 0.6064\n",
            "Epoch 65/100\n",
            "544/544 [==============================] - 5s 9ms/step - loss: 1.0257 - acc: 0.5435 - val_loss: 0.9879 - val_acc: 0.6072\n",
            "Epoch 66/100\n",
            "544/544 [==============================] - 5s 9ms/step - loss: 1.0217 - acc: 0.5467 - val_loss: 0.9891 - val_acc: 0.6002\n",
            "Epoch 67/100\n",
            "544/544 [==============================] - 5s 9ms/step - loss: 1.0216 - acc: 0.5479 - val_loss: 0.9881 - val_acc: 0.6011\n",
            "Epoch 68/100\n",
            "544/544 [==============================] - 5s 9ms/step - loss: 1.0227 - acc: 0.5513 - val_loss: 0.9907 - val_acc: 0.6046\n",
            "Epoch 69/100\n",
            "544/544 [==============================] - 5s 9ms/step - loss: 1.0221 - acc: 0.5479 - val_loss: 0.9886 - val_acc: 0.5975\n",
            "Epoch 70/100\n",
            "544/544 [==============================] - 5s 9ms/step - loss: 1.0188 - acc: 0.5491 - val_loss: 0.9883 - val_acc: 0.5896\n",
            "Epoch 71/100\n",
            "544/544 [==============================] - 5s 9ms/step - loss: 1.0156 - acc: 0.5502 - val_loss: 0.9825 - val_acc: 0.6072\n",
            "Epoch 72/100\n",
            "544/544 [==============================] - 5s 9ms/step - loss: 1.0203 - acc: 0.5504 - val_loss: 0.9888 - val_acc: 0.6028\n",
            "Epoch 73/100\n",
            "544/544 [==============================] - 5s 9ms/step - loss: 1.0179 - acc: 0.5509 - val_loss: 0.9848 - val_acc: 0.6055\n",
            "Epoch 74/100\n",
            "544/544 [==============================] - 5s 9ms/step - loss: 1.0197 - acc: 0.5481 - val_loss: 0.9857 - val_acc: 0.6011\n",
            "Epoch 75/100\n",
            "544/544 [==============================] - 5s 9ms/step - loss: 1.0193 - acc: 0.5512 - val_loss: 0.9843 - val_acc: 0.6028\n",
            "Epoch 76/100\n",
            "544/544 [==============================] - 5s 9ms/step - loss: 1.0175 - acc: 0.5488 - val_loss: 0.9816 - val_acc: 0.6125\n",
            "Epoch 77/100\n",
            "544/544 [==============================] - 5s 9ms/step - loss: 1.0171 - acc: 0.5507 - val_loss: 0.9823 - val_acc: 0.6125\n",
            "Epoch 78/100\n",
            "544/544 [==============================] - 5s 9ms/step - loss: 1.0137 - acc: 0.5532 - val_loss: 0.9794 - val_acc: 0.6108\n",
            "Epoch 79/100\n",
            "544/544 [==============================] - 5s 9ms/step - loss: 1.0180 - acc: 0.5471 - val_loss: 0.9806 - val_acc: 0.6055\n",
            "Epoch 80/100\n",
            "544/544 [==============================] - 5s 9ms/step - loss: 1.0164 - acc: 0.5491 - val_loss: 0.9823 - val_acc: 0.5984\n",
            "Epoch 81/100\n",
            "544/544 [==============================] - 5s 9ms/step - loss: 1.0137 - acc: 0.5580 - val_loss: 0.9801 - val_acc: 0.6019\n",
            "Epoch 82/100\n",
            "544/544 [==============================] - 5s 9ms/step - loss: 1.0141 - acc: 0.5500 - val_loss: 0.9777 - val_acc: 0.6064\n",
            "Epoch 83/100\n",
            "544/544 [==============================] - 5s 9ms/step - loss: 1.0133 - acc: 0.5564 - val_loss: 0.9807 - val_acc: 0.6046\n",
            "Epoch 84/100\n",
            "544/544 [==============================] - 5s 9ms/step - loss: 1.0173 - acc: 0.5509 - val_loss: 0.9762 - val_acc: 0.6152\n",
            "Epoch 85/100\n",
            "544/544 [==============================] - 5s 9ms/step - loss: 1.0132 - acc: 0.5566 - val_loss: 0.9755 - val_acc: 0.6143\n",
            "Epoch 86/100\n",
            "544/544 [==============================] - 5s 9ms/step - loss: 1.0145 - acc: 0.5511 - val_loss: 0.9761 - val_acc: 0.6037\n",
            "Epoch 87/100\n",
            "544/544 [==============================] - 5s 9ms/step - loss: 1.0102 - acc: 0.5577 - val_loss: 0.9744 - val_acc: 0.6152\n",
            "Epoch 88/100\n",
            "544/544 [==============================] - 5s 9ms/step - loss: 1.0128 - acc: 0.5563 - val_loss: 0.9743 - val_acc: 0.6152\n",
            "Epoch 89/100\n",
            "544/544 [==============================] - 5s 9ms/step - loss: 1.0089 - acc: 0.5584 - val_loss: 0.9749 - val_acc: 0.6108\n",
            "Epoch 90/100\n",
            "544/544 [==============================] - 5s 9ms/step - loss: 1.0111 - acc: 0.5568 - val_loss: 0.9726 - val_acc: 0.6178\n",
            "Epoch 91/100\n",
            "544/544 [==============================] - 5s 9ms/step - loss: 1.0143 - acc: 0.5541 - val_loss: 0.9700 - val_acc: 0.6117\n",
            "Epoch 92/100\n",
            "544/544 [==============================] - 6s 11ms/step - loss: 1.0087 - acc: 0.5592 - val_loss: 0.9715 - val_acc: 0.6125\n",
            "Epoch 93/100\n",
            "544/544 [==============================] - 5s 9ms/step - loss: 1.0120 - acc: 0.5585 - val_loss: 0.9713 - val_acc: 0.6090\n",
            "Epoch 94/100\n",
            "544/544 [==============================] - 5s 9ms/step - loss: 1.0130 - acc: 0.5571 - val_loss: 0.9726 - val_acc: 0.6196\n",
            "Epoch 95/100\n",
            "544/544 [==============================] - 5s 9ms/step - loss: 1.0092 - acc: 0.5561 - val_loss: 0.9729 - val_acc: 0.6169\n",
            "Epoch 96/100\n",
            "544/544 [==============================] - 5s 9ms/step - loss: 1.0087 - acc: 0.5579 - val_loss: 0.9698 - val_acc: 0.6108\n",
            "Epoch 97/100\n",
            "544/544 [==============================] - 5s 9ms/step - loss: 1.0112 - acc: 0.5572 - val_loss: 0.9685 - val_acc: 0.6196\n",
            "Epoch 98/100\n",
            "544/544 [==============================] - 5s 9ms/step - loss: 1.0122 - acc: 0.5589 - val_loss: 0.9690 - val_acc: 0.6081\n",
            "Epoch 99/100\n",
            "544/544 [==============================] - 5s 9ms/step - loss: 1.0035 - acc: 0.5677 - val_loss: 0.9659 - val_acc: 0.6090\n",
            "Epoch 100/100\n",
            "544/544 [==============================] - 5s 9ms/step - loss: 1.0127 - acc: 0.5596 - val_loss: 0.9676 - val_acc: 0.6205\n"
          ]
        }
      ],
      "source": [
        "# Compile model.\n",
        "\n",
        "# Optimizer\n",
        "initial_learning_rate = learning_rate\n",
        "lr_schedule = keras.optimizers.schedules.ExponentialDecay(\n",
        "    initial_learning_rate, decay_steps=10000, decay_rate=0.96, staircase=True\n",
        ")\n",
        "\n",
        "model.compile(\n",
        "    loss=keras.losses.categorical_crossentropy,\n",
        "    optimizer=keras.optimizers.Adam(learning_rate=lr_schedule),\n",
        "    metrics=[\"acc\"],\n",
        ")\n",
        "\n",
        "# Define callbacks.\n",
        "checkpoint_cb = keras.callbacks.ModelCheckpoint(\n",
        "    \"Primary_data_classification.h5\", save_best_only=True\n",
        ")\n",
        "early_stopping_cb = keras.callbacks.EarlyStopping(monitor=\"val_acc\", patience=25) # Changed patience from 15 to 25 based on the reviwers comment to reach more epochs\n",
        "\n",
        "# Train the model, doing validation at the end of each epoch\n",
        "history = model.fit(\n",
        "    train_dataset,\n",
        "    validation_data=validation_dataset,\n",
        "    epochs=epochs,\n",
        "    shuffle=True,\n",
        "    class_weight=class_weights[0],\n",
        "    verbose=1,\n",
        "    callbacks=[checkpoint_cb, early_stopping_cb],\n",
        ")"
      ]
    },
    {
      "cell_type": "markdown",
      "metadata": {
        "id": "Wb9tZ7LRGrbO"
      },
      "source": [
        "###### With data augmentation"
      ]
    },
    {
      "cell_type": "code",
      "execution_count": 26,
      "metadata": {
        "id": "tTXZJTeMGOJl",
        "colab": {
          "base_uri": "https://localhost:8080/",
          "height": 255
        },
        "outputId": "ffac309a-9022-4c8e-a4ea-7ac3d39908c8"
      },
      "outputs": [
        {
          "output_type": "display_data",
          "data": {
            "text/plain": [
              "<Figure size 1440x216 with 2 Axes>"
            ],
            "image/png": "[encoded data removed]"
          },
          "metadata": {
            "needs_background": "light"
          }
        }
      ],
      "source": [
        "fig, ax = plt.subplots(1, 2, figsize=(20, 3))\n",
        "ax = ax.ravel()\n",
        "\n",
        "for i, metric in enumerate([\"acc\", \"loss\"]):\n",
        "  ax[i].plot(history.history[metric])\n",
        "  ax[i].plot(history.history[\"val_\" + metric])\n",
        "  ax[i].set_title(\"Model {}\".format(metric))\n",
        "  ax[i].set_xlabel(\"epochs\")\n",
        "  ax[i].set_ylabel(metric)\n",
        "  ax[i].legend([\"train\", \"val\"], frameon=False, fontsize = 12)\n",
        "  right_side = ax[i].spines[\"right\"]\n",
        "  right_side.set_visible(False)\n",
        "  top_side = ax[i].spines[\"top\"]\n",
        "  top_side.set_visible(False)\n",
        "  if i==0:\n",
        "    ax[i].set_yticks(np.linspace(.3,.7,3))\n",
        "    ax[i].set_ylim([.30, .70])\n",
        "  else:\n",
        "    ax[i].set_yticks(np.linspace(.75,1.5,3))\n",
        "    ax[i].set_ylim([.75, 1.5])\n",
        "  for item in ([ax[i].xaxis.label, ax[i].yaxis.label]):\n",
        "    item.set_fontsize(16)\n",
        "  for item in (ax[i].get_xticklabels() + ax[i].get_yticklabels()):\n",
        "    item.set_fontsize(14)\n",
        "  ax[i].title.set_fontsize(20)\n",
        "  \n",
        "plt.savefig(\"ACC.svg\")"
      ]
    },
    {
      "cell_type": "code",
      "execution_count": 27,
      "metadata": {
        "id": "6iZ4p3zqGdEs",
        "colab": {
          "base_uri": "https://localhost:8080/"
        },
        "outputId": "3542b59c-15e0-4a8e-fdd8-00905a003700"
      },
      "outputs": [
        {
          "output_type": "stream",
          "name": "stdout",
          "text": [
            "Validation score: loss of 0.9676212072372437; acc of 62.04766035079956%\n",
            "Test score: loss of 0.9844750165939331; acc of 59.34744477272034%\n"
          ]
        }
      ],
      "source": [
        "# Generate generalization metrics\n",
        "# Validation\n",
        "ValidationScores = model.evaluate(x_valid, y_valid, verbose=0)\n",
        "print(f'Validation score: {model.metrics_names[0]} of {ValidationScores[0]}; {model.metrics_names[1]} of {ValidationScores[1]*100}%')\n",
        "# Test\n",
        "TestScores = model.evaluate(x_test, y_test, verbose=0)\n",
        "print(f'Test score: {model.metrics_names[0]} of {TestScores[0]}; {model.metrics_names[1]} of {TestScores[1]*100}%')"
      ]
    }
  ],
  "metadata": {
    "colab": {
      "collapsed_sections": [
        "pOMJawB3WxxQ"
      ],
      "name": "Train&Test_Parkinson resting state EEG.ipynb",
      "provenance": []
    },
    "kernelspec": {
      "display_name": "Python 3",
      "name": "python3"
    },
    "language_info": {
      "name": "python"
    },
    "accelerator": "GPU",
    "gpuClass": "standard"
  },
  "nbformat": 4,
  "nbformat_minor": 0
}