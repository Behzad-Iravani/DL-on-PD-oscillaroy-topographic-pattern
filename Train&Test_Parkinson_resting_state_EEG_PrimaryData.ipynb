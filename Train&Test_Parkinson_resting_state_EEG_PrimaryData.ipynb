{
  "cells": [
    {
      "cell_type": "markdown",
      "source": [
        "##Initializing "
      ],
      "metadata": {
        "id": "CPkkaGHESakE"
      }
    },
    {
      "cell_type": "code",
      "execution_count": 1,
      "metadata": {
        "id": "mykSye9o0Z0k",
        "colab": {
          "base_uri": "https://localhost:8080/",
          "height": 0
        },
        "outputId": "91361788-0c51-4dde-9edb-ad38a9c4b7ad"
      },
      "outputs": [
        {
          "output_type": "stream",
          "name": "stdout",
          "text": [
            "Looking in indexes: https://pypi.org/simple, https://us-python.pkg.dev/colab-wheels/public/simple/\n",
            "Collecting gdown==4.3.0\n",
            "  Downloading gdown-4.3.0.tar.gz (13 kB)\n",
            "  Installing build dependencies ... \u001b[?25l\u001b[?25hdone\n",
            "  Getting requirements to build wheel ... \u001b[?25l\u001b[?25hdone\n",
            "    Preparing wheel metadata ... \u001b[?25l\u001b[?25hdone\n",
            "Requirement already satisfied: filelock in /usr/local/lib/python3.7/dist-packages (from gdown==4.3.0) (3.7.1)\n",
            "Requirement already satisfied: beautifulsoup4 in /usr/local/lib/python3.7/dist-packages (from gdown==4.3.0) (4.6.3)\n",
            "Requirement already satisfied: tqdm in /usr/local/lib/python3.7/dist-packages (from gdown==4.3.0) (4.64.0)\n",
            "Requirement already satisfied: requests[socks] in /usr/local/lib/python3.7/dist-packages (from gdown==4.3.0) (2.23.0)\n",
            "Requirement already satisfied: six in /usr/local/lib/python3.7/dist-packages (from gdown==4.3.0) (1.15.0)\n",
            "Requirement already satisfied: urllib3!=1.25.0,!=1.25.1,<1.26,>=1.21.1 in /usr/local/lib/python3.7/dist-packages (from requests[socks]->gdown==4.3.0) (1.24.3)\n",
            "Requirement already satisfied: idna<3,>=2.5 in /usr/local/lib/python3.7/dist-packages (from requests[socks]->gdown==4.3.0) (2.10)\n",
            "Requirement already satisfied: certifi>=2017.4.17 in /usr/local/lib/python3.7/dist-packages (from requests[socks]->gdown==4.3.0) (2022.6.15)\n",
            "Requirement already satisfied: chardet<4,>=3.0.2 in /usr/local/lib/python3.7/dist-packages (from requests[socks]->gdown==4.3.0) (3.0.4)\n",
            "Requirement already satisfied: PySocks!=1.5.7,>=1.5.6 in /usr/local/lib/python3.7/dist-packages (from requests[socks]->gdown==4.3.0) (1.7.1)\n",
            "Building wheels for collected packages: gdown\n",
            "  Building wheel for gdown (PEP 517) ... \u001b[?25l\u001b[?25hdone\n",
            "  Created wheel for gdown: filename=gdown-4.3.0-py3-none-any.whl size=14412 sha256=29175a8c28b25723f10cb100731eaebf6a59a72520fae8721cd07b6e707270a6\n",
            "  Stored in directory: /root/.cache/pip/wheels/fd/ce/f8/389eafb78bce55ea78740dfcafc3c9da6f5e70d25c0377610d\n",
            "Successfully built gdown\n",
            "Installing collected packages: gdown\n",
            "  Attempting uninstall: gdown\n",
            "    Found existing installation: gdown 4.4.0\n",
            "    Uninstalling gdown-4.4.0:\n",
            "      Successfully uninstalled gdown-4.4.0\n",
            "Successfully installed gdown-4.3.0\n"
          ]
        }
      ],
      "source": [
        "# Import libraries\n",
        "!pip install gdown==4.3.0\n",
        "import gdown\n",
        "from IPython.display import clear_output\n",
        "from scipy.io import loadmat, savemat\n",
        "import numpy as np\n",
        "from matplotlib import pyplot as plt\n",
        "from sklearn import preprocessing\n",
        "from sklearn.utils import class_weight\n",
        "import collections\n",
        "from sklearn.model_selection import train_test_split\n",
        "from tensorflow import keras\n",
        "import tensorflow as tf\n",
        "# GradCam\n",
        "import cv2\n",
        "# Augment function\n",
        "from random import choice\n",
        "import scipy.ndimage as ndi\n",
        "from scipy.ndimage.interpolation import map_coordinates\n",
        "from scipy.ndimage.filters import gaussian_filter\n",
        "\n",
        "## Check gpu availability\n",
        "# device_name = tf.test.gpu_device_name()\n",
        "# if device_name != '/device:GPU:0':\n",
        "#    raise SystemError('GPU device not found')\n",
        "# print('Found GPU at: {}'.format(device_name))"
      ]
    },
    {
      "cell_type": "code",
      "source": [
        "from sklearn.metrics import roc_curve, auc\n",
        "from sklearn.preprocessing import label_binarize\n",
        "from matplotlib.ticker import (MultipleLocator, FormatStrFormatter,\n",
        "                               AutoMinorLocator)"
      ],
      "metadata": {
        "id": "6iCyiMrWYbLw"
      },
      "execution_count": 2,
      "outputs": []
    },
    {
      "cell_type": "markdown",
      "metadata": {
        "id": "DBlPNOoJwfj2"
      },
      "source": [
        "## Functions for augmentation"
      ]
    },
    {
      "cell_type": "code",
      "execution_count": 3,
      "metadata": {
        "id": "ehLSGtcBwfQS"
      },
      "outputs": [],
      "source": [
        "def transform_matrix_offset_center(matrix, x, y):\n",
        "    o_x = float(x) / 2 + 0.5\n",
        "    o_y = float(y) / 2 + 0.5\n",
        "    offset_matrix = np.array([[1, 0, o_x], [0, 1, o_y], [0, 0, 1]])\n",
        "    reset_matrix = np.array([[1, 0, -o_x], [0, 1, -o_y], [0, 0, 1]])\n",
        "    transform_matrix = np.dot(np.dot(offset_matrix, matrix), reset_matrix)\n",
        "    return transform_matrix\n",
        "\n",
        "def apply_transform(x,\n",
        "                    transform_matrix,\n",
        "                    channel_axis=0,\n",
        "                    fill_mode='nearest',\n",
        "                    cval=0.):\n",
        "\n",
        "    x = np.rollaxis(x, channel_axis, 0)\n",
        "    final_affine_matrix = transform_matrix[:2, :2]\n",
        "    final_offset = transform_matrix[:2, 2]\n",
        "    channel_images = [ndi.interpolation.affine_transform(\n",
        "        x_channel,\n",
        "        final_affine_matrix,\n",
        "        final_offset,\n",
        "        order=3,\n",
        "        mode=fill_mode,\n",
        "        cval=cval) for x_channel in x]\n",
        "    x = np.stack(channel_images, axis=0)\n",
        "    x = np.rollaxis(x, 0, channel_axis + 1)\n",
        "    return x\n",
        "\n",
        "# Random shift\n",
        "def random_shift(img, wrg=0.2, hrg=0.2, row_axis=0, col_axis=1, channel_axis=2, fill_mode='nearest', cval=0.):\n",
        "\n",
        "    h, w = img.shape[row_axis], img.shape[col_axis]\n",
        "    tx = np.random.uniform(-hrg, hrg) * h\n",
        "    ty = np.random.uniform(-wrg, wrg) * w\n",
        "    translation_matrix = np.array([[1, 0, tx],\n",
        "                                   [0, 1, ty],\n",
        "                                   [0, 0, 1]])\n",
        "\n",
        "    transform_matrix = translation_matrix\n",
        "    img = apply_transform(img, transform_matrix, channel_axis, fill_mode, cval)\n",
        "    return img\n",
        "\n",
        "# Random zoom\n",
        "def random_zoom(img, zoom_range=(0.88, 1.12), row_axis=0, col_axis=1, channel_axis=2, fill_mode='nearest', cval=0.):\n",
        "\n",
        "    if len(zoom_range) != 2:\n",
        "        raise ValueError('`zoom_range` should be a tuple or list of two floats. '\n",
        "                         'Received arg: ', zoom_range)\n",
        "\n",
        "    if zoom_range[0] == 1 and zoom_range[1] == 1:\n",
        "        zx, zy = 1, 1\n",
        "    else:\n",
        "        zx, zy = np.random.uniform(zoom_range[0], zoom_range[1], 2)\n",
        "    zoom_matrix = np.array([[zx, 0, 0],\n",
        "                            [0, zy, 0],\n",
        "                            [0, 0, 1]])\n",
        "\n",
        "    h, w = img.shape[row_axis], img.shape[col_axis]\n",
        "    transform_matrix = transform_matrix_offset_center(zoom_matrix, h, w)\n",
        "    img = apply_transform(img, transform_matrix, channel_axis, fill_mode, cval)\n",
        "    return img\n",
        "\n",
        "# Elastic transform\n",
        "def elastic_deform(img, alpha=0.2, sigma=0.08, random_state=None):\n",
        "\n",
        "    if random_state is None:\n",
        "        random_state = np.random.RandomState(None)\n",
        "    else:\n",
        "        random_state = np.random.RandomState(random_state)\n",
        "\n",
        "    shape = img.shape\n",
        "    dx = gaussian_filter((random_state.rand(*shape) * 2 - 1), sigma, mode=\"constant\", cval=0) * alpha\n",
        "    dy = gaussian_filter((random_state.rand(*shape) * 2 - 1), sigma, mode=\"constant\", cval=0) * alpha\n",
        "    dz = np.zeros_like(dx)\n",
        "\n",
        "    x, y, z = np.meshgrid(np.arange(shape[0]), np.arange(shape[1]), np.arange(shape[2]))\n",
        "    indices = np.reshape(y+dy, (-1, 1)), np.reshape(x+dx, (-1, 1)), np.reshape(z, (-1, 1))\n",
        "\n",
        "    distored_image = map_coordinates(img, indices, order=1, mode='reflect')\n",
        "    return distored_image.reshape(img.shape)\n",
        "\n",
        "#### BEHZAD: We can have mirror around lateral axis (left to right but not front to back)\n",
        "def mirror_lateral(img, row_axis=0, col_axis=1, channel_axis=2, fill_mode='nearest', cval=0.):\n",
        "\n",
        "    h, w = img.shape[row_axis], img.shape[col_axis]\n",
        "    translation_matrix = np.array([[1, 0, 0],\n",
        "                                   [0, -1, 0],\n",
        "                                   [0, 0, 1]])\n",
        "\n",
        "    transform_matrix = transform_matrix_offset_center(translation_matrix, h, w)\n",
        "    img = apply_transform(img, transform_matrix, channel_axis, fill_mode, cval)\n",
        "    return img\n",
        "\n",
        "\n",
        "# FillMode = 'constant', 'nearest', 'reflect', 'wrap'\n",
        "fns = [random_shift, random_zoom, elastic_deform] # Based on the reviewer comments we removed \"mirror_lateral\""
      ]
    },
    {
      "cell_type": "markdown",
      "metadata": {
        "id": "lM0HddKVW-S7"
      },
      "source": [
        "## Data preparation"
      ]
    },
    {
      "cell_type": "code",
      "execution_count": 4,
      "metadata": {
        "colab": {
          "base_uri": "https://localhost:8080/",
          "height": 0
        },
        "id": "gNC_rPG8eM_n",
        "outputId": "0fff3802-3964-4348-9617-e0038f6055d3"
      },
      "outputs": [
        {
          "output_type": "stream",
          "name": "stdout",
          "text": [
            "The download was successful\n"
          ]
        }
      ],
      "source": [
        "# Download Data\n",
        "#Links = {\n",
        "#    'data.mat' : '1yXvY1u2Pbqsv2joCljf6zHc53AxEY7su', \n",
        "#}\n",
        "# New data \n",
        "Links = {\n",
        "    #'data.mat' : '1T1cNIAtPGGMfFWXmPzJ-sZJeyGbNmu2r', \n",
        "     'data.mat'  :  '1mP7t9TlT1F4854PPV3FLgirI_XbMP1VK', # Primary dataset from openneuro\n",
        "     #'data.mat' : '1CsXodGAjq28zU2UMVrG5jC_pZJocvEZC', # Secondary dataset from OSF, this gives out of memory!!!!\n",
        "    }\n",
        "\n",
        "for Item in Links:\n",
        "  url = f'https://drive.google.com/uc?id={Links[Item]}'\n",
        "  gdown.download(url, Item, quiet=False)\n",
        "  clear_output(wait=True)\n",
        "print('The download was successful')"
      ]
    },
    {
      "cell_type": "code",
      "execution_count": 5,
      "metadata": {
        "id": "YBaKZJNKi8rr"
      },
      "outputs": [],
      "source": [
        "# Read data\n",
        "\n",
        "Data = loadmat('data.mat')\n",
        "\n",
        "Images = np.array([Data['dat'][0, 0]['Image'][0, Item] for Item in range(len(Data['dat'][0, 0]['Image'][0]))]).astype('float32')\n",
        "Images = np.nan_to_num(Images)\n",
        "Labels = [Data['dat'][0, 0]['Lable'][0, Item][0] for Item in range(len(Data['dat'][0, 0]['Lable'][0]))]\n",
        "FileNames = [Data['dat'][0, 0]['file'][0, Item][0] for Item in range(len(Data['dat'][0, 0]['file'][0]))]\n",
        "\n",
        "del Data"
      ]
    },
    {
      "cell_type": "code",
      "execution_count": 6,
      "metadata": {
        "id": "fFk2CStW5Mg6",
        "colab": {
          "base_uri": "https://localhost:8080/",
          "height": 108
        },
        "outputId": "6a68969c-a7d5-408e-959a-187c15ae2ec8"
      },
      "outputs": [
        {
          "output_type": "display_data",
          "data": {
            "text/plain": [
              "<Figure size 432x288 with 5 Axes>"
            ],
            "image/png": "[encoded data removed]"
          },
          "metadata": {}
        }
      ],
      "source": [
        "index = 5002\n",
        "fig, axs = plt.subplots(1,5)\n",
        "axs[0].imshow(Images[index][:, :, 10]) \n",
        "axs[0].set_yticks([])\n",
        "axs[0].set_xticks([]) \n",
        "axs[0].set_title('Original')\n",
        "\n",
        "tmp = random_shift(Images[index])\n",
        "axs[1].imshow(tmp[:,:,10])\n",
        "axs[1].set_yticks([])\n",
        "axs[1].set_xticks([])\n",
        "axs[1].set_title('Random shift')\n",
        "\n",
        "tmp = random_zoom(Images[index])\n",
        "axs[2].imshow(tmp[:,:,10])\n",
        "axs[2].set_yticks([])\n",
        "axs[2].set_xticks([])\n",
        "axs[2].set_title('Random zoom')\n",
        "\n",
        "\n",
        "tmp = elastic_deform(Images[index])\n",
        "axs[3].imshow(tmp[:,:,10])\n",
        "axs[3].set_yticks([])\n",
        "axs[3].set_xticks([])\n",
        "axs[3].set_title('Elastic deform')\n",
        "\n",
        "tmp = mirror_lateral(Images[index])\n",
        "axs[4].imshow(tmp[:,:,10])\n",
        "axs[4].set_yticks([])\n",
        "axs[4].set_xticks([])\n",
        "axs[4].set_title('Left/right flip')\n",
        "plt.rc('axes', titlesize=8)\n",
        "\n",
        "plt.savefig('Augmentation.png', dpi=300)\n",
        "plt.savefig('Augmentation.svg')"
      ]
    },
    {
      "cell_type": "code",
      "execution_count": 7,
      "metadata": {
        "id": "FC8ncFWsCHlA"
      },
      "outputs": [],
      "source": [
        "# Label encoding\n",
        "y = preprocessing.LabelEncoder()\n",
        "y.fit(Labels)\n",
        "y = y.transform(Labels)"
      ]
    },
    {
      "cell_type": "code",
      "execution_count": 8,
      "metadata": {
        "id": "va51lb233EMX",
        "colab": {
          "base_uri": "https://localhost:8080/",
          "height": 0
        },
        "outputId": "b821b922-11ba-43cd-b073-7a3ebb404405"
      },
      "outputs": [
        {
          "output_type": "stream",
          "name": "stdout",
          "text": [
            "Counter({'pd_on': 3120, 'pd_off': 3000, 'control': 2946})\n",
            "Counter({2: 3120, 1: 3000, 0: 2946})\n"
          ]
        }
      ],
      "source": [
        "print(collections.Counter(Labels))\n",
        "print(collections.Counter(y))"
      ]
    },
    {
      "cell_type": "code",
      "execution_count": 9,
      "metadata": {
        "id": "qoAlnhUkGbxX"
      },
      "outputs": [],
      "source": [
        "# Train/Test/Validation Set Splitting\n",
        "x_train, x_rem, y_train_int, y_rem_int = train_test_split(Images, y, test_size=0.25, random_state=4, stratify=y) # increased test/validation from .15 to .25\n",
        "x_valid, x_test, y_valid_int, y_test_int = train_test_split(x_rem, y_rem_int, test_size=0.5, random_state=4, stratify=y_rem_int)\n",
        "\n",
        "del x_rem, y_rem_int, Images, Labels"
      ]
    },
    {
      "cell_type": "code",
      "execution_count": 10,
      "metadata": {
        "id": "Uc4h05tW4Hkv"
      },
      "outputs": [],
      "source": [
        "# Define and quantify variables\n",
        "\n",
        "DataShape = (x_train.shape[1], x_train.shape[2], x_train.shape[3])\n",
        "n_classes = len(np.unique(y))\n",
        "# n_classes = len(set(y))\n",
        "\n",
        "batch_size = 25 # BEHZAD changed this from 50 to 25, to get more samples per batch  #2\n",
        "dropout_rate = 0.5\n",
        "epochs = 100     \n",
        "learning_rate = 1e-4\n",
        "\n",
        "tf.random.set_seed(123)\n",
        "\n",
        "# GradCam\n",
        "NewDataShape = (x_train.shape[1], x_train.shape[2], x_train.shape[3])"
      ]
    },
    {
      "cell_type": "code",
      "execution_count": 11,
      "metadata": {
        "id": "JxJL0myD7DaC"
      },
      "outputs": [],
      "source": [
        "# Data augmentation\n",
        "\n",
        "AugmentedData = np.zeros((len(x_train), DataShape[0], DataShape[1], DataShape[2]))\n",
        "AugmentedDataY = []\n",
        "\n",
        "for Index, (Item_X, Item_Y) in enumerate(zip(x_train, y_train_int)):\n",
        "  AugmentedData[Index, :, :, :] = choice(fns)(Item_X)\n",
        "  AugmentedDataY.append(Item_Y)\n",
        "\n",
        "AugmentedDataY = np.array(AugmentedDataY)\n",
        "\n",
        "x_train = np.concatenate((x_train, AugmentedData), axis=0)\n",
        "y_train_int = np.concatenate((y_train_int, AugmentedDataY), axis=0)\n",
        "\n",
        "del AugmentedDataY"
      ]
    },
    {
      "cell_type": "code",
      "execution_count": 12,
      "metadata": {
        "id": "F7C7tiHM_G-s",
        "colab": {
          "base_uri": "https://localhost:8080/",
          "height": 0
        },
        "outputId": "6b91c65b-5e87-46ed-f6f9-6766ac883b56"
      },
      "outputs": [
        {
          "output_type": "stream",
          "name": "stdout",
          "text": [
            "({0: 1.0259544288516673, 1: 1.0072592592592593, 2: 0.9685185185185186},)\n"
          ]
        }
      ],
      "source": [
        "# Adding class weights\n",
        "\n",
        "class_weights = class_weight.compute_class_weight(class_weight = \"balanced\",\n",
        "                                                  classes = np.unique(y_train_int),\n",
        "                                                  y = y_train_int)\n",
        "\n",
        "class_weights = dict(zip(np.unique(y_train_int), class_weights)),\n",
        "\n",
        "print(class_weights)"
      ]
    },
    {
      "cell_type": "code",
      "execution_count": 13,
      "metadata": {
        "id": "9-nUIJu2YS-N",
        "colab": {
          "base_uri": "https://localhost:8080/",
          "height": 265
        },
        "outputId": "e6d64d31-1dcc-4aeb-97ed-32bac352ce54"
      },
      "outputs": [
        {
          "output_type": "display_data",
          "data": {
            "text/plain": [
              "<Figure size 432x288 with 2 Axes>"
            ],
            "image/png": "[encoded data removed]"
          },
          "metadata": {
            "needs_background": "light"
          }
        }
      ],
      "source": [
        "plt.imshow(x_train[5000][:, :, 10])\n",
        "plt.colorbar()\n",
        "plt.show()"
      ]
    },
    {
      "cell_type": "code",
      "execution_count": 14,
      "metadata": {
        "id": "mVvZ6UkT7REj",
        "colab": {
          "base_uri": "https://localhost:8080/",
          "height": 0
        },
        "outputId": "94a57ee0-9700-4a0f-ed3e-d3d93a3b9359"
      },
      "outputs": [
        {
          "output_type": "stream",
          "name": "stdout",
          "text": [
            "(13598, 20, 20, 50)\n",
            "Counter({2: 4680, 1: 4500, 0: 4418})\n",
            "(1133, 20, 20, 50)\n",
            "Counter({2: 390, 1: 375, 0: 368})\n",
            "(1134, 20, 20, 50)\n",
            "Counter({2: 390, 1: 375, 0: 369})\n"
          ]
        }
      ],
      "source": [
        "print(x_train.shape)\n",
        "print(collections.Counter(y_train_int))\n",
        "print(x_valid.shape)\n",
        "print(collections.Counter(y_valid_int))\n",
        "print(x_test.shape)\n",
        "print(collections.Counter(y_test_int))"
      ]
    },
    {
      "cell_type": "code",
      "execution_count": 15,
      "metadata": {
        "id": "xi0du0eWz0ve"
      },
      "outputs": [],
      "source": [
        "def spatial_zscore(X): # BEHZAD added this but ended up not using it\n",
        "  [s0,s1,s2,s3] = X.shape\n",
        "  Xz =[]\n",
        "  for i in range(s0):\n",
        "    xmean = np.tile(np.nanmean(np.reshape(X[i],[s1*s2,s3]), axis = 0), [s1,s2,1]);\n",
        "    xstd = np.tile(np.nanstd(np.reshape(X[i],[s1*s2,s3]), axis = 0),[s1,s2,1]);\n",
        "    Xz.append((X[i]-xmean)/xstd)\n",
        "  return Xz"
      ]
    },
    {
      "cell_type": "code",
      "execution_count": 16,
      "metadata": {
        "id": "kEuqyB3CdKlO"
      },
      "outputs": [],
      "source": [
        "# z-scoring to normalize the data # BEHZAD commented out this because resampled data to normal dist.\n",
        "\n",
        "#x_mean = np.mean(np.concatenate((x_train, x_valid, x_test), axis = 0)) # BEHZAD chagned this to all three\n",
        "#x_std = np.std(np.concatenate((x_train, x_valid, x_test), axis = 0)) # BEHZAD chagned this to all three\n",
        "#x_train = (x_train - x_mean)/x_std\n",
        "#x_valid = (x_valid - x_mean)/x_std\n",
        "#x_test = (x_test - x_mean)/x_std\n",
        "\n",
        "#del x_mean, x_std\n",
        "# changed it to within sample z-scoring\n",
        "#TRAIN\n",
        "#x_train      = spatial_zscore(x_train)\n",
        "# convert to ndarray\n",
        "#x_train = np.asarray(x_train)\n",
        "#VALID\n",
        "#x_valid      = spatial_zscore(x_valid)\n",
        "# convert to ndarray\n",
        "#x_valid  = np.asarray(x_valid)\n",
        "#TEST\n",
        "#x_test       = spatial_zscore(x_test)\n",
        "# convert to ndarray\n",
        "#x_test = np.asarray(x_test)"
      ]
    },
    {
      "cell_type": "code",
      "execution_count": 17,
      "metadata": {
        "id": "1aqcDFejUFTM",
        "colab": {
          "base_uri": "https://localhost:8080/",
          "height": 283
        },
        "outputId": "063496da-2836-4c71-ee49-babc9851c8bf"
      },
      "outputs": [
        {
          "output_type": "display_data",
          "data": {
            "text/plain": [
              "<Figure size 432x288 with 2 Axes>"
            ],
            "image/png": "[encoded data removed]"
          },
          "metadata": {
            "needs_background": "light"
          }
        },
        {
          "output_type": "stream",
          "name": "stdout",
          "text": [
            "1\n"
          ]
        }
      ],
      "source": [
        "plt.imshow(x_train[304][:, :, 48])\n",
        "plt.colorbar()\n",
        "plt.show()\n",
        "print(y_train_int[304])"
      ]
    },
    {
      "cell_type": "markdown",
      "metadata": {
        "id": "pOMJawB3WxxQ"
      },
      "source": [
        "## 3D convolutional neural network"
      ]
    },
    {
      "cell_type": "code",
      "execution_count": 18,
      "metadata": {
        "id": "LT4MM_f4cDpe"
      },
      "outputs": [],
      "source": [
        "y_train = keras.utils.to_categorical(y_train_int, num_classes=n_classes)\n",
        "y_valid = keras.utils.to_categorical(y_valid_int, num_classes=n_classes)\n",
        "y_test = keras.utils.to_categorical(y_test_int, num_classes=n_classes)"
      ]
    },
    {
      "cell_type": "code",
      "execution_count": 19,
      "metadata": {
        "id": "S1N1gRHnEfNp"
      },
      "outputs": [],
      "source": [
        "@tf.function\n",
        "\n",
        "def train_preprocessing(volume, label):\n",
        "    volume = tf.expand_dims(volume, axis=3)\n",
        "    return volume, label\n",
        "\n",
        "def validation_preprocessing(volume, label):\n",
        "    volume = tf.expand_dims(volume, axis=3)\n",
        "    return volume, label"
      ]
    },
    {
      "cell_type": "code",
      "execution_count": 20,
      "metadata": {
        "id": "4GA6nqugGSGb"
      },
      "outputs": [],
      "source": [
        "train_loader = tf.data.Dataset.from_tensor_slices((x_train, y_train))\n",
        "validation_loader = tf.data.Dataset.from_tensor_slices((x_valid, y_valid))\n",
        "\n",
        "train_dataset = (\n",
        "    train_loader.shuffle(len(x_train))\n",
        "    .map(train_preprocessing)\n",
        "    .batch(batch_size)\n",
        "    .prefetch(2)\n",
        ")\n",
        "\n",
        "validation_dataset = (\n",
        "    validation_loader.shuffle(len(x_valid))\n",
        "    .map(validation_preprocessing)\n",
        "    .batch(batch_size)\n",
        "    .prefetch(2)\n",
        ")"
      ]
    },
    {
      "cell_type": "code",
      "execution_count": 21,
      "metadata": {
        "id": "ki0saOV1Hs9U",
        "colab": {
          "base_uri": "https://localhost:8080/",
          "height": 301
        },
        "outputId": "8e254689-c881-437f-d549-f8ccbf30bfc6"
      },
      "outputs": [
        {
          "output_type": "stream",
          "name": "stdout",
          "text": [
            "Dimension of the img is: (20, 20, 50, 1)\n"
          ]
        },
        {
          "output_type": "execute_result",
          "data": {
            "text/plain": [
              "<matplotlib.image.AxesImage at 0x7f0101449e90>"
            ]
          },
          "metadata": {},
          "execution_count": 21
        },
        {
          "output_type": "display_data",
          "data": {
            "text/plain": [
              "<Figure size 432x288 with 1 Axes>"
            ],
            "image/png": "[encoded data removed]"
          },
          "metadata": {
            "needs_background": "light"
          }
        }
      ],
      "source": [
        "data = train_dataset.take(1)\n",
        "images, labels = list(data)[0]\n",
        "images = images.numpy()\n",
        "image = images[0]\n",
        "print(\"Dimension of the img is:\", image.shape)\n",
        "plt.imshow(np.squeeze(image[:, :, 30]))"
      ]
    },
    {
      "cell_type": "code",
      "execution_count": 22,
      "metadata": {
        "id": "wk7BNxY9H8pI",
        "colab": {
          "base_uri": "https://localhost:8080/",
          "height": 463
        },
        "outputId": "fa5ad4d8-2a22-411b-9e90-91a8e468ec87"
      },
      "outputs": [
        {
          "output_type": "display_data",
          "data": {
            "text/plain": [
              "<Figure size 864x432 with 50 Axes>"
            ],
            "image/png": "[encoded data removed]"
          },
          "metadata": {
            "needs_background": "light"
          }
        }
      ],
      "source": [
        "def plot_slices(num_rows, num_columns, width, height, data):\n",
        "    data = np.rot90(np.array(data))\n",
        "    data = np.transpose(data)\n",
        "    data = np.reshape(data, (num_rows, num_columns, width, height))\n",
        "    rows_data, columns_data = data.shape[0], data.shape[1]\n",
        "    heights = [slc[0].shape[0] for slc in data]\n",
        "    widths = [slc.shape[1] for slc in data[0]]\n",
        "    fig_width = 12.0\n",
        "    fig_height = fig_width * sum(heights) / sum(widths)\n",
        "    f, axarr = plt.subplots(\n",
        "        rows_data,\n",
        "        columns_data,\n",
        "        figsize=(fig_width, fig_height),\n",
        "        gridspec_kw={\"height_ratios\": heights},\n",
        "    )\n",
        "    for i in range(rows_data):\n",
        "        for j in range(columns_data):\n",
        "            axarr[i, j].imshow(data[i][j], cmap=\"jet\")\n",
        "            axarr[i, j].axis(\"off\")\n",
        "    plt.subplots_adjust(wspace=0, hspace=0, left=0, right=1, bottom=0, top=1)\n",
        "    plt.show()\n",
        "\n",
        "\n",
        "# Visualize montage of slices.\n",
        "plot_slices(5, 10, DataShape[0], DataShape[1], image[:, :, :50])"
      ]
    },
    {
      "cell_type": "code",
      "execution_count": 23,
      "metadata": {
        "id": "oOs9aDVPIXjO"
      },
      "outputs": [],
      "source": [
        "def get_model(width=DataShape[0], height=DataShape[1], depth=DataShape[2]):\n",
        "  \n",
        "  initializer = keras.initializers.GlorotNormal()\n",
        "  # initializer = keras.initializers.GlorotUniform()\n",
        "\n",
        "  inputs = keras.Input((width, height, depth, 1))\n",
        "\n",
        "  x = keras.layers.Conv3D(filters=2, kernel_size=(3, 3, 3), strides=(1, 1, 1), padding='same', activation=\"sigmoid\", kernel_initializer=initializer, kernel_regularizer = tf.keras.regularizers.l1_l2(l1=1e-4, l2=1e-2), use_bias=True)(inputs)\n",
        "  x = keras.layers.AveragePooling3D(pool_size=(2, 2, 2), strides=(2, 2, 2), padding='same')(x)\n",
        "\n",
        "  x = keras.layers.Conv3D(filters=3, kernel_size=(3, 3, 3), strides=(1, 1, 1), padding='same', activation=\"sigmoid\", kernel_initializer=initializer, kernel_regularizer = tf.keras.regularizers.l1_l2(l1=1e-4, l2=1e-2), use_bias=True)(x)\n",
        "  x = keras.layers.AveragePooling3D(pool_size=(2, 2, 2), strides=(2, 2, 2), padding='same')(x)\n",
        "\n",
        "  x = keras.layers.Conv3D(filters=3, kernel_size=(3, 3, 3), strides=(1, 1, 1), padding='same', activation=\"sigmoid\", kernel_initializer=initializer, kernel_regularizer = tf.keras.regularizers.l1_l2(l1=1e-4, l2=1e-2), use_bias=True)(x)\n",
        "  x = keras.layers.AveragePooling3D(pool_size=(2, 2, 2), strides=(2, 2, 2), padding='same')(x)\n",
        "  \n",
        "  x = keras.layers.BatchNormalization(scale=False, center=False)(x) #\n",
        "  #x = keras.layers.GlobalMaxPooling3D()(x)\n",
        "  \n",
        "  # x = keras.layers.GlobalAveragePooling3D()(x)\n",
        "  x = keras.layers.Flatten()(x)\n",
        "  \n",
        "  #x = keras.layers.Dense(units=3, activation=\"linear\", kernel_initializer=initializer, kernel_regularizer = tf.keras.regularizers.l1_l2(l1=1e-4, l2=1e-3))(x)\n",
        "  x = keras.layers.Dropout(dropout_rate)(x)\n",
        "  x = keras.layers.ReLU()(x)\n",
        "  # outputs = keras.layers.Dense(units=n_classes, activation=\"sigmoid\")(x)\n",
        "  # outputs = keras.layers.Dense(units=n_classes, activation=\"softmax\", kernel_initializer=initializer)(x)\n",
        "  outputs = keras.layers.Dense(units=n_classes, activation=\"softmax\", kernel_initializer=initializer, kernel_regularizer = tf.keras.regularizers.l1_l2(l1=1e-4, l2=1e-2))(x)\n",
        "\n",
        "  # Define the model.\n",
        "  model = keras.Model(inputs, outputs, name=\"Parkinson3D\")\n",
        "  return model"
      ]
    },
    {
      "cell_type": "code",
      "execution_count": 24,
      "metadata": {
        "id": "XfH8fl2bGnxL",
        "colab": {
          "base_uri": "https://localhost:8080/",
          "height": 0
        },
        "outputId": "78808eaa-8587-4a78-df00-d153a21089fa"
      },
      "outputs": [
        {
          "output_type": "stream",
          "name": "stdout",
          "text": [
            "Model: \"Parkinson3D\"\n",
            "_________________________________________________________________\n",
            " Layer (type)                Output Shape              Param #   \n",
            "=================================================================\n",
            " input_1 (InputLayer)        [(None, 20, 20, 50, 1)]   0         \n",
            "                                                                 \n",
            " conv3d (Conv3D)             (None, 20, 20, 50, 2)     56        \n",
            "                                                                 \n",
            " average_pooling3d (AverageP  (None, 10, 10, 25, 2)    0         \n",
            " ooling3D)                                                       \n",
            "                                                                 \n",
            " conv3d_1 (Conv3D)           (None, 10, 10, 25, 3)     165       \n",
            "                                                                 \n",
            " average_pooling3d_1 (Averag  (None, 5, 5, 13, 3)      0         \n",
            " ePooling3D)                                                     \n",
            "                                                                 \n",
            " conv3d_2 (Conv3D)           (None, 5, 5, 13, 3)       246       \n",
            "                                                                 \n",
            " average_pooling3d_2 (Averag  (None, 3, 3, 7, 3)       0         \n",
            " ePooling3D)                                                     \n",
            "                                                                 \n",
            " batch_normalization (BatchN  (None, 3, 3, 7, 3)       6         \n",
            " ormalization)                                                   \n",
            "                                                                 \n",
            " flatten (Flatten)           (None, 189)               0         \n",
            "                                                                 \n",
            " dropout (Dropout)           (None, 189)               0         \n",
            "                                                                 \n",
            " re_lu (ReLU)                (None, 189)               0         \n",
            "                                                                 \n",
            " dense (Dense)               (None, 3)                 570       \n",
            "                                                                 \n",
            "=================================================================\n",
            "Total params: 1,043\n",
            "Trainable params: 1,037\n",
            "Non-trainable params: 6\n",
            "_________________________________________________________________\n"
          ]
        }
      ],
      "source": [
        "# Build model.\n",
        "\n",
        "model = get_model(width=DataShape[0], height=DataShape[1], depth=DataShape[2])\n",
        "model.summary()"
      ]
    },
    {
      "cell_type": "code",
      "execution_count": 25,
      "metadata": {
        "id": "kbnLIxhegz70",
        "colab": {
          "base_uri": "https://localhost:8080/",
          "height": 0
        },
        "outputId": "c3ade445-56d3-4ef8-a872-a609bfccb73b"
      },
      "outputs": [
        {
          "output_type": "stream",
          "name": "stdout",
          "text": [
            "Epoch 1/100\n",
            "544/544 [==============================] - 18s 10ms/step - loss: 1.3216 - acc: 0.3300 - val_loss: 1.2057 - val_acc: 0.3310\n",
            "Epoch 2/100\n",
            "544/544 [==============================] - 5s 9ms/step - loss: 1.2244 - acc: 0.3378 - val_loss: 1.1873 - val_acc: 0.4201\n",
            "Epoch 3/100\n",
            "544/544 [==============================] - 5s 10ms/step - loss: 1.1935 - acc: 0.3456 - val_loss: 1.1761 - val_acc: 0.4554\n",
            "Epoch 4/100\n",
            "544/544 [==============================] - 5s 9ms/step - loss: 1.1760 - acc: 0.3578 - val_loss: 1.1632 - val_acc: 0.4616\n",
            "Epoch 5/100\n",
            "544/544 [==============================] - 5s 9ms/step - loss: 1.1610 - acc: 0.3957 - val_loss: 1.1506 - val_acc: 0.4731\n",
            "Epoch 6/100\n",
            "544/544 [==============================] - 5s 9ms/step - loss: 1.1470 - acc: 0.4146 - val_loss: 1.1357 - val_acc: 0.4801\n",
            "Epoch 7/100\n",
            "544/544 [==============================] - 6s 10ms/step - loss: 1.1356 - acc: 0.4368 - val_loss: 1.1267 - val_acc: 0.4863\n",
            "Epoch 8/100\n",
            "544/544 [==============================] - 5s 9ms/step - loss: 1.1226 - acc: 0.4540 - val_loss: 1.1144 - val_acc: 0.5066\n",
            "Epoch 9/100\n",
            "544/544 [==============================] - 5s 9ms/step - loss: 1.1132 - acc: 0.4615 - val_loss: 1.1069 - val_acc: 0.5137\n",
            "Epoch 10/100\n",
            "544/544 [==============================] - 5s 9ms/step - loss: 1.1094 - acc: 0.4657 - val_loss: 1.1019 - val_acc: 0.5066\n",
            "Epoch 11/100\n",
            "544/544 [==============================] - 5s 8ms/step - loss: 1.1002 - acc: 0.4785 - val_loss: 1.0918 - val_acc: 0.4934\n",
            "Epoch 12/100\n",
            "544/544 [==============================] - 6s 11ms/step - loss: 1.0973 - acc: 0.4812 - val_loss: 1.0950 - val_acc: 0.4943\n",
            "Epoch 13/100\n",
            "544/544 [==============================] - 5s 9ms/step - loss: 1.0929 - acc: 0.4818 - val_loss: 1.0853 - val_acc: 0.5102\n",
            "Epoch 14/100\n",
            "544/544 [==============================] - 5s 8ms/step - loss: 1.0855 - acc: 0.4874 - val_loss: 1.0754 - val_acc: 0.5207\n",
            "Epoch 15/100\n",
            "544/544 [==============================] - 5s 9ms/step - loss: 1.0806 - acc: 0.4947 - val_loss: 1.0740 - val_acc: 0.5455\n",
            "Epoch 16/100\n",
            "544/544 [==============================] - 5s 9ms/step - loss: 1.0750 - acc: 0.5029 - val_loss: 1.0721 - val_acc: 0.5252\n",
            "Epoch 17/100\n",
            "544/544 [==============================] - 5s 8ms/step - loss: 1.0704 - acc: 0.5035 - val_loss: 1.0603 - val_acc: 0.5578\n",
            "Epoch 18/100\n",
            "544/544 [==============================] - 5s 9ms/step - loss: 1.0689 - acc: 0.5055 - val_loss: 1.0553 - val_acc: 0.5569\n",
            "Epoch 19/100\n",
            "544/544 [==============================] - 5s 8ms/step - loss: 1.0660 - acc: 0.5092 - val_loss: 1.0545 - val_acc: 0.5560\n",
            "Epoch 20/100\n",
            "544/544 [==============================] - 5s 8ms/step - loss: 1.0621 - acc: 0.5118 - val_loss: 1.0512 - val_acc: 0.5613\n",
            "Epoch 21/100\n",
            "544/544 [==============================] - 5s 8ms/step - loss: 1.0613 - acc: 0.5131 - val_loss: 1.0474 - val_acc: 0.5658\n",
            "Epoch 22/100\n",
            "544/544 [==============================] - 5s 9ms/step - loss: 1.0602 - acc: 0.5147 - val_loss: 1.0413 - val_acc: 0.5719\n",
            "Epoch 23/100\n",
            "544/544 [==============================] - 5s 9ms/step - loss: 1.0561 - acc: 0.5206 - val_loss: 1.0376 - val_acc: 0.5702\n",
            "Epoch 24/100\n",
            "544/544 [==============================] - 5s 9ms/step - loss: 1.0549 - acc: 0.5199 - val_loss: 1.0374 - val_acc: 0.5816\n",
            "Epoch 25/100\n",
            "544/544 [==============================] - 5s 10ms/step - loss: 1.0532 - acc: 0.5224 - val_loss: 1.0362 - val_acc: 0.5799\n",
            "Epoch 26/100\n",
            "544/544 [==============================] - 5s 8ms/step - loss: 1.0489 - acc: 0.5235 - val_loss: 1.0323 - val_acc: 0.5746\n",
            "Epoch 27/100\n",
            "544/544 [==============================] - 5s 8ms/step - loss: 1.0498 - acc: 0.5264 - val_loss: 1.0323 - val_acc: 0.5719\n",
            "Epoch 28/100\n",
            "544/544 [==============================] - 5s 9ms/step - loss: 1.0492 - acc: 0.5234 - val_loss: 1.0294 - val_acc: 0.5728\n",
            "Epoch 29/100\n",
            "544/544 [==============================] - 5s 9ms/step - loss: 1.0468 - acc: 0.5251 - val_loss: 1.0254 - val_acc: 0.5861\n",
            "Epoch 30/100\n",
            "544/544 [==============================] - 5s 9ms/step - loss: 1.0478 - acc: 0.5258 - val_loss: 1.0251 - val_acc: 0.5799\n",
            "Epoch 31/100\n",
            "544/544 [==============================] - 5s 8ms/step - loss: 1.0460 - acc: 0.5282 - val_loss: 1.0228 - val_acc: 0.5940\n",
            "Epoch 32/100\n",
            "544/544 [==============================] - 5s 9ms/step - loss: 1.0440 - acc: 0.5268 - val_loss: 1.0224 - val_acc: 0.5861\n",
            "Epoch 33/100\n",
            "544/544 [==============================] - 5s 8ms/step - loss: 1.0477 - acc: 0.5227 - val_loss: 1.0234 - val_acc: 0.5869\n",
            "Epoch 34/100\n",
            "544/544 [==============================] - 5s 9ms/step - loss: 1.0428 - acc: 0.5312 - val_loss: 1.0180 - val_acc: 0.5931\n",
            "Epoch 35/100\n",
            "544/544 [==============================] - 5s 9ms/step - loss: 1.0398 - acc: 0.5349 - val_loss: 1.0163 - val_acc: 0.5922\n",
            "Epoch 36/100\n",
            "544/544 [==============================] - 5s 9ms/step - loss: 1.0391 - acc: 0.5324 - val_loss: 1.0127 - val_acc: 0.5922\n",
            "Epoch 37/100\n",
            "544/544 [==============================] - 5s 9ms/step - loss: 1.0392 - acc: 0.5343 - val_loss: 1.0128 - val_acc: 0.5896\n",
            "Epoch 38/100\n",
            "544/544 [==============================] - 5s 9ms/step - loss: 1.0391 - acc: 0.5326 - val_loss: 1.0158 - val_acc: 0.5816\n",
            "Epoch 39/100\n",
            "544/544 [==============================] - 5s 9ms/step - loss: 1.0392 - acc: 0.5312 - val_loss: 1.0122 - val_acc: 0.5781\n",
            "Epoch 40/100\n",
            "544/544 [==============================] - 5s 9ms/step - loss: 1.0368 - acc: 0.5393 - val_loss: 1.0091 - val_acc: 0.5869\n",
            "Epoch 41/100\n",
            "544/544 [==============================] - 5s 9ms/step - loss: 1.0351 - acc: 0.5375 - val_loss: 1.0151 - val_acc: 0.5825\n",
            "Epoch 42/100\n",
            "544/544 [==============================] - 5s 9ms/step - loss: 1.0367 - acc: 0.5346 - val_loss: 1.0159 - val_acc: 0.5737\n",
            "Epoch 43/100\n",
            "544/544 [==============================] - 5s 9ms/step - loss: 1.0349 - acc: 0.5373 - val_loss: 1.0116 - val_acc: 0.5984\n",
            "Epoch 44/100\n",
            "544/544 [==============================] - 5s 9ms/step - loss: 1.0347 - acc: 0.5449 - val_loss: 1.0090 - val_acc: 0.5861\n",
            "Epoch 45/100\n",
            "544/544 [==============================] - 5s 9ms/step - loss: 1.0329 - acc: 0.5390 - val_loss: 1.0062 - val_acc: 0.5887\n",
            "Epoch 46/100\n",
            "544/544 [==============================] - 5s 8ms/step - loss: 1.0328 - acc: 0.5391 - val_loss: 1.0067 - val_acc: 0.5852\n",
            "Epoch 47/100\n",
            "544/544 [==============================] - 5s 9ms/step - loss: 1.0327 - acc: 0.5414 - val_loss: 1.0013 - val_acc: 0.6081\n",
            "Epoch 48/100\n",
            "544/544 [==============================] - 5s 9ms/step - loss: 1.0289 - acc: 0.5433 - val_loss: 1.0001 - val_acc: 0.6011\n",
            "Epoch 49/100\n",
            "544/544 [==============================] - 5s 9ms/step - loss: 1.0322 - acc: 0.5435 - val_loss: 1.0021 - val_acc: 0.6019\n",
            "Epoch 50/100\n",
            "544/544 [==============================] - 5s 9ms/step - loss: 1.0291 - acc: 0.5446 - val_loss: 0.9972 - val_acc: 0.6055\n",
            "Epoch 51/100\n",
            "544/544 [==============================] - 5s 9ms/step - loss: 1.0290 - acc: 0.5446 - val_loss: 0.9984 - val_acc: 0.5914\n",
            "Epoch 52/100\n",
            "544/544 [==============================] - 5s 8ms/step - loss: 1.0302 - acc: 0.5441 - val_loss: 0.9971 - val_acc: 0.6117\n",
            "Epoch 53/100\n",
            "544/544 [==============================] - 5s 9ms/step - loss: 1.0264 - acc: 0.5451 - val_loss: 0.9968 - val_acc: 0.6090\n",
            "Epoch 54/100\n",
            "544/544 [==============================] - 5s 9ms/step - loss: 1.0293 - acc: 0.5455 - val_loss: 0.9956 - val_acc: 0.6099\n",
            "Epoch 55/100\n",
            "544/544 [==============================] - 5s 9ms/step - loss: 1.0249 - acc: 0.5500 - val_loss: 0.9932 - val_acc: 0.6169\n",
            "Epoch 56/100\n",
            "544/544 [==============================] - 5s 9ms/step - loss: 1.0245 - acc: 0.5484 - val_loss: 0.9941 - val_acc: 0.6019\n",
            "Epoch 57/100\n",
            "544/544 [==============================] - 5s 10ms/step - loss: 1.0244 - acc: 0.5452 - val_loss: 0.9903 - val_acc: 0.6081\n",
            "Epoch 58/100\n",
            "544/544 [==============================] - 5s 9ms/step - loss: 1.0259 - acc: 0.5460 - val_loss: 0.9926 - val_acc: 0.6046\n",
            "Epoch 59/100\n",
            "544/544 [==============================] - 5s 9ms/step - loss: 1.0227 - acc: 0.5501 - val_loss: 0.9906 - val_acc: 0.6037\n",
            "Epoch 60/100\n",
            "544/544 [==============================] - 5s 9ms/step - loss: 1.0218 - acc: 0.5532 - val_loss: 0.9893 - val_acc: 0.6187\n",
            "Epoch 61/100\n",
            "544/544 [==============================] - 5s 9ms/step - loss: 1.0262 - acc: 0.5499 - val_loss: 0.9879 - val_acc: 0.6161\n",
            "Epoch 62/100\n",
            "544/544 [==============================] - 5s 9ms/step - loss: 1.0242 - acc: 0.5504 - val_loss: 0.9859 - val_acc: 0.6161\n",
            "Epoch 63/100\n",
            "544/544 [==============================] - 5s 9ms/step - loss: 1.0204 - acc: 0.5516 - val_loss: 0.9840 - val_acc: 0.6134\n",
            "Epoch 64/100\n",
            "544/544 [==============================] - 5s 9ms/step - loss: 1.0232 - acc: 0.5499 - val_loss: 0.9853 - val_acc: 0.6037\n",
            "Epoch 65/100\n",
            "544/544 [==============================] - 5s 8ms/step - loss: 1.0208 - acc: 0.5507 - val_loss: 0.9825 - val_acc: 0.6090\n",
            "Epoch 66/100\n",
            "544/544 [==============================] - 5s 9ms/step - loss: 1.0181 - acc: 0.5552 - val_loss: 0.9811 - val_acc: 0.6231\n",
            "Epoch 67/100\n",
            "544/544 [==============================] - 5s 9ms/step - loss: 1.0211 - acc: 0.5503 - val_loss: 0.9828 - val_acc: 0.6143\n",
            "Epoch 68/100\n",
            "544/544 [==============================] - 5s 9ms/step - loss: 1.0186 - acc: 0.5587 - val_loss: 0.9824 - val_acc: 0.6169\n",
            "Epoch 69/100\n",
            "544/544 [==============================] - 5s 9ms/step - loss: 1.0185 - acc: 0.5563 - val_loss: 0.9847 - val_acc: 0.6134\n",
            "Epoch 70/100\n",
            "544/544 [==============================] - 5s 9ms/step - loss: 1.0189 - acc: 0.5517 - val_loss: 0.9789 - val_acc: 0.6117\n",
            "Epoch 71/100\n",
            "544/544 [==============================] - 5s 9ms/step - loss: 1.0126 - acc: 0.5552 - val_loss: 0.9774 - val_acc: 0.6169\n",
            "Epoch 72/100\n",
            "544/544 [==============================] - 5s 9ms/step - loss: 1.0185 - acc: 0.5558 - val_loss: 0.9811 - val_acc: 0.6240\n",
            "Epoch 73/100\n",
            "544/544 [==============================] - 5s 9ms/step - loss: 1.0140 - acc: 0.5527 - val_loss: 0.9767 - val_acc: 0.6178\n",
            "Epoch 74/100\n",
            "544/544 [==============================] - 5s 9ms/step - loss: 1.0175 - acc: 0.5562 - val_loss: 0.9766 - val_acc: 0.6187\n",
            "Epoch 75/100\n",
            "544/544 [==============================] - 5s 9ms/step - loss: 1.0169 - acc: 0.5576 - val_loss: 0.9766 - val_acc: 0.6099\n",
            "Epoch 76/100\n",
            "544/544 [==============================] - 5s 9ms/step - loss: 1.0135 - acc: 0.5518 - val_loss: 0.9740 - val_acc: 0.6178\n",
            "Epoch 77/100\n",
            "544/544 [==============================] - 5s 9ms/step - loss: 1.0157 - acc: 0.5566 - val_loss: 0.9736 - val_acc: 0.6214\n",
            "Epoch 78/100\n",
            "544/544 [==============================] - 5s 8ms/step - loss: 1.0126 - acc: 0.5611 - val_loss: 0.9711 - val_acc: 0.6222\n",
            "Epoch 79/100\n",
            "544/544 [==============================] - 5s 9ms/step - loss: 1.0170 - acc: 0.5553 - val_loss: 0.9720 - val_acc: 0.6117\n",
            "Epoch 80/100\n",
            "544/544 [==============================] - 5s 8ms/step - loss: 1.0120 - acc: 0.5639 - val_loss: 0.9743 - val_acc: 0.6002\n",
            "Epoch 81/100\n",
            "544/544 [==============================] - 5s 9ms/step - loss: 1.0118 - acc: 0.5605 - val_loss: 0.9734 - val_acc: 0.6099\n",
            "Epoch 82/100\n",
            "544/544 [==============================] - 5s 8ms/step - loss: 1.0123 - acc: 0.5572 - val_loss: 0.9721 - val_acc: 0.6178\n",
            "Epoch 83/100\n",
            "544/544 [==============================] - 5s 9ms/step - loss: 1.0077 - acc: 0.5638 - val_loss: 0.9724 - val_acc: 0.6161\n",
            "Epoch 84/100\n",
            "544/544 [==============================] - 5s 9ms/step - loss: 1.0145 - acc: 0.5596 - val_loss: 0.9656 - val_acc: 0.6214\n",
            "Epoch 85/100\n",
            "544/544 [==============================] - 5s 9ms/step - loss: 1.0119 - acc: 0.5619 - val_loss: 0.9686 - val_acc: 0.6249\n",
            "Epoch 86/100\n",
            "544/544 [==============================] - 5s 8ms/step - loss: 1.0097 - acc: 0.5595 - val_loss: 0.9685 - val_acc: 0.6072\n",
            "Epoch 87/100\n",
            "544/544 [==============================] - 5s 9ms/step - loss: 1.0074 - acc: 0.5610 - val_loss: 0.9658 - val_acc: 0.6178\n",
            "Epoch 88/100\n",
            "544/544 [==============================] - 5s 9ms/step - loss: 1.0122 - acc: 0.5600 - val_loss: 0.9678 - val_acc: 0.6231\n",
            "Epoch 89/100\n",
            "544/544 [==============================] - 5s 8ms/step - loss: 1.0096 - acc: 0.5590 - val_loss: 0.9681 - val_acc: 0.6178\n",
            "Epoch 90/100\n",
            "544/544 [==============================] - 5s 9ms/step - loss: 1.0082 - acc: 0.5643 - val_loss: 0.9647 - val_acc: 0.6222\n",
            "Epoch 91/100\n",
            "544/544 [==============================] - 5s 10ms/step - loss: 1.0111 - acc: 0.5554 - val_loss: 0.9655 - val_acc: 0.6240\n",
            "Epoch 92/100\n",
            "544/544 [==============================] - 5s 9ms/step - loss: 1.0090 - acc: 0.5593 - val_loss: 0.9643 - val_acc: 0.6249\n",
            "Epoch 93/100\n",
            "544/544 [==============================] - 5s 9ms/step - loss: 1.0086 - acc: 0.5627 - val_loss: 0.9642 - val_acc: 0.6275\n",
            "Epoch 94/100\n",
            "544/544 [==============================] - 5s 9ms/step - loss: 1.0113 - acc: 0.5605 - val_loss: 0.9656 - val_acc: 0.6205\n",
            "Epoch 95/100\n",
            "544/544 [==============================] - 5s 9ms/step - loss: 1.0075 - acc: 0.5617 - val_loss: 0.9681 - val_acc: 0.6258\n",
            "Epoch 96/100\n",
            "544/544 [==============================] - 5s 9ms/step - loss: 1.0060 - acc: 0.5637 - val_loss: 0.9618 - val_acc: 0.6205\n",
            "Epoch 97/100\n",
            "544/544 [==============================] - 5s 9ms/step - loss: 1.0081 - acc: 0.5586 - val_loss: 0.9623 - val_acc: 0.6169\n",
            "Epoch 98/100\n",
            "544/544 [==============================] - 5s 8ms/step - loss: 1.0093 - acc: 0.5605 - val_loss: 0.9638 - val_acc: 0.6064\n",
            "Epoch 99/100\n",
            "544/544 [==============================] - 5s 9ms/step - loss: 1.0033 - acc: 0.5679 - val_loss: 0.9595 - val_acc: 0.6302\n",
            "Epoch 100/100\n",
            "544/544 [==============================] - 5s 9ms/step - loss: 1.0083 - acc: 0.5658 - val_loss: 0.9614 - val_acc: 0.6152\n"
          ]
        }
      ],
      "source": [
        "# Compile model.\n",
        "\n",
        "# Optimizer\n",
        "initial_learning_rate = learning_rate\n",
        "lr_schedule = keras.optimizers.schedules.ExponentialDecay(\n",
        "    initial_learning_rate, decay_steps=10000, decay_rate=0.96, staircase=True\n",
        ")\n",
        "\n",
        "model.compile(\n",
        "    loss=keras.losses.categorical_crossentropy,\n",
        "    optimizer=keras.optimizers.Adam(learning_rate=lr_schedule),\n",
        "    metrics=[\"acc\"],\n",
        ")\n",
        "\n",
        "# Define callbacks.\n",
        "checkpoint_cb = keras.callbacks.ModelCheckpoint(\n",
        "    \"Primary_data_classification.h5\", save_best_only=True\n",
        ")\n",
        "early_stopping_cb = keras.callbacks.EarlyStopping(monitor=\"val_acc\", patience=25) # Changed patience from 15 to 25 based on the reviwers comment to reach more epochs\n",
        "\n",
        "# Train the model, doing validation at the end of each epoch\n",
        "history = model.fit(\n",
        "    train_dataset,\n",
        "    validation_data=validation_dataset,\n",
        "    epochs=epochs,\n",
        "    shuffle=True,\n",
        "    class_weight=class_weights[0],\n",
        "    verbose=1,\n",
        "    callbacks=[checkpoint_cb, early_stopping_cb],\n",
        ")"
      ]
    },
    {
      "cell_type": "markdown",
      "metadata": {
        "id": "Wb9tZ7LRGrbO"
      },
      "source": [
        "###### With data augmentation"
      ]
    },
    {
      "cell_type": "code",
      "execution_count": 26,
      "metadata": {
        "id": "tTXZJTeMGOJl",
        "colab": {
          "base_uri": "https://localhost:8080/",
          "height": 255
        },
        "outputId": "5761c34f-eae4-44e5-cc0a-2b7b123c9f48"
      },
      "outputs": [
        {
          "output_type": "display_data",
          "data": {
            "text/plain": [
              "<Figure size 1440x216 with 2 Axes>"
            ],
            "image/png": "[encoded data removed]"
          },
          "metadata": {
            "needs_background": "light"
          }
        }
      ],
      "source": [
        "fig, ax = plt.subplots(1, 2, figsize=(20, 3))\n",
        "ax = ax.ravel()\n",
        "\n",
        "for i, metric in enumerate([\"acc\", \"loss\"]):\n",
        "  ax[i].plot(history.history[metric])\n",
        "  ax[i].plot(history.history[\"val_\" + metric])\n",
        "  ax[i].set_title(\"Model {}\".format(metric))\n",
        "  ax[i].set_xlabel(\"epochs\")\n",
        "  ax[i].set_ylabel(metric)\n",
        "  ax[i].legend([\"train\", \"val\"], frameon=False, fontsize = 12)\n",
        "  right_side = ax[i].spines[\"right\"]\n",
        "  right_side.set_visible(False)\n",
        "  top_side = ax[i].spines[\"top\"]\n",
        "  top_side.set_visible(False)\n",
        "  if i==0:\n",
        "    ax[i].set_yticks(np.linspace(.3,.7,3))\n",
        "    ax[i].set_ylim([.30, .70])\n",
        "  else:\n",
        "    ax[i].set_yticks(np.linspace(.75,1.5,3))\n",
        "    ax[i].set_ylim([.75, 1.5])\n",
        "  for item in ([ax[i].xaxis.label, ax[i].yaxis.label]):\n",
        "    item.set_fontsize(16)\n",
        "  for item in (ax[i].get_xticklabels() + ax[i].get_yticklabels()):\n",
        "    item.set_fontsize(14)\n",
        "  ax[i].title.set_fontsize(20)\n",
        "  \n",
        "plt.savefig(\"ACC.svg\")"
      ]
    },
    {
      "cell_type": "code",
      "execution_count": 27,
      "metadata": {
        "id": "6iZ4p3zqGdEs",
        "colab": {
          "base_uri": "https://localhost:8080/",
          "height": 0
        },
        "outputId": "25dfe7a2-74f7-4c7a-d75e-defbbd075d39"
      },
      "outputs": [
        {
          "output_type": "stream",
          "name": "stdout",
          "text": [
            "Validation score: loss of 0.9613519906997681; acc of 61.51809096336365%\n",
            "Test score: loss of 0.9793268442153931; acc of 59.34744477272034%\n"
          ]
        }
      ],
      "source": [
        "# Generate generalization metrics\n",
        "# Validation\n",
        "ValidationScores = model.evaluate(x_valid, y_valid, verbose=0)\n",
        "print(f'Validation score: {model.metrics_names[0]} of {ValidationScores[0]}; {model.metrics_names[1]} of {ValidationScores[1]*100}%')\n",
        "# Test\n",
        "TestScores = model.evaluate(x_test, y_test, verbose=0)\n",
        "print(f'Test score: {model.metrics_names[0]} of {TestScores[0]}; {model.metrics_names[1]} of {TestScores[1]*100}%')"
      ]
    },
    {
      "cell_type": "code",
      "source": [
        "# Claculate ACC per class\n",
        "from sklearn.metrics import confusion_matrix \n",
        "y_predict = np.argmax(model.predict(x_test),axis=1)\n",
        "cmat = confusion_matrix(\n",
        "    y_test_int, y_predict)\n",
        "\n",
        "print(np.sum(y_test_int==0))\n",
        "print(cmat.sum(axis=1))\n",
        "print(cmat)\n",
        "print(cmat.diagonal()/cmat.sum(axis=1))"
      ],
      "metadata": {
        "id": "WKFsHCarmICx",
        "colab": {
          "base_uri": "https://localhost:8080/",
          "height": 0
        },
        "outputId": "c4f0e4ba-8a5f-470e-8c25-37c354b6166b"
      },
      "execution_count": 28,
      "outputs": [
        {
          "output_type": "stream",
          "name": "stdout",
          "text": [
            "369\n",
            "[369 375 390]\n",
            "[[228  74  67]\n",
            " [ 64 196 115]\n",
            " [ 52  89 249]]\n",
            "[0.61788618 0.52266667 0.63846154]\n"
          ]
        }
      ]
    },
    {
      "cell_type": "markdown",
      "metadata": {
        "id": "rPISph0PGjFI"
      },
      "source": [
        "###### Without data augmentation"
      ]
    },
    {
      "cell_type": "code",
      "execution_count": 29,
      "metadata": {
        "id": "SqoC99n1ItKM",
        "colab": {
          "base_uri": "https://localhost:8080/",
          "height": 238
        },
        "outputId": "de844825-2fd5-4b44-d03a-e125f9e75c97"
      },
      "outputs": [
        {
          "output_type": "display_data",
          "data": {
            "text/plain": [
              "<Figure size 1440x216 with 2 Axes>"
            ],
            "image/png": "[encoded data removed]"
          },
          "metadata": {
            "needs_background": "light"
          }
        }
      ],
      "source": [
        "fig, ax = plt.subplots(1, 2, figsize=(20, 3))\n",
        "ax = ax.ravel()\n",
        "\n",
        "for i, metric in enumerate([\"acc\", \"loss\"]):\n",
        "  ax[i].plot(history.history[metric])\n",
        "  ax[i].plot(history.history[\"val_\" + metric])\n",
        "  ax[i].set_title(\"Model {}\".format(metric))\n",
        "  ax[i].set_xlabel(\"epochs\")\n",
        "  ax[i].set_ylabel(metric)\n",
        "  ax[i].legend([\"train\", \"val\"])"
      ]
    },
    {
      "cell_type": "code",
      "execution_count": 30,
      "metadata": {
        "id": "hREjV3r-u1F3",
        "colab": {
          "base_uri": "https://localhost:8080/",
          "height": 0
        },
        "outputId": "14113728-2766-4b68-bcaf-34130e60c126"
      },
      "outputs": [
        {
          "output_type": "stream",
          "name": "stdout",
          "text": [
            "Validation score: loss of 0.9613519906997681; acc of 61.51809096336365%\n",
            "Test score: loss of 0.9793268442153931; acc of 59.34744477272034%\n"
          ]
        }
      ],
      "source": [
        "# Generate generalization metrics\n",
        "# Validation\n",
        "ValidationScores = model.evaluate(x_valid, y_valid, verbose=0)\n",
        "print(f'Validation score: {model.metrics_names[0]} of {ValidationScores[0]}; {model.metrics_names[1]} of {ValidationScores[1]*100}%')\n",
        "# Test\n",
        "TestScores = model.evaluate(x_test, y_test, verbose=0)\n",
        "print(f'Test score: {model.metrics_names[0]} of {TestScores[0]}; {model.metrics_names[1]} of {TestScores[1]*100}%')"
      ]
    }
  ],
  "metadata": {
    "colab": {
      "collapsed_sections": [
        "pOMJawB3WxxQ"
      ],
      "name": "Train&Test_Parkinson resting state EEG.ipynb",
      "provenance": []
    },
    "kernelspec": {
      "display_name": "Python 3",
      "name": "python3"
    },
    "language_info": {
      "name": "python"
    },
    "accelerator": "GPU",
    "gpuClass": "standard"
  },
  "nbformat": 4,
  "nbformat_minor": 0
}