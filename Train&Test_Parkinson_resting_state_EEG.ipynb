{
  "cells": [
    {
      "cell_type": "markdown",
      "source": [
        "##Initializing "
      ],
      "metadata": {
        "id": "CPkkaGHESakE"
      }
    },
    {
      "cell_type": "code",
      "execution_count": 1,
      "metadata": {
        "id": "mykSye9o0Z0k",
        "colab": {
          "base_uri": "https://localhost:8080/"
        },
        "outputId": "8b25f856-e2c2-410e-b174-cbbea01b71db"
      },
      "outputs": [
        {
          "output_type": "stream",
          "name": "stdout",
          "text": [
            "Looking in indexes: https://pypi.org/simple, https://us-python.pkg.dev/colab-wheels/public/simple/\n",
            "Collecting gdown==4.3.0\n",
            "  Downloading gdown-4.3.0.tar.gz (13 kB)\n",
            "  Installing build dependencies ... \u001b[?25l\u001b[?25hdone\n",
            "  Getting requirements to build wheel ... \u001b[?25l\u001b[?25hdone\n",
            "    Preparing wheel metadata ... \u001b[?25l\u001b[?25hdone\n",
            "Requirement already satisfied: beautifulsoup4 in /usr/local/lib/python3.7/dist-packages (from gdown==4.3.0) (4.6.3)\n",
            "Requirement already satisfied: requests[socks] in /usr/local/lib/python3.7/dist-packages (from gdown==4.3.0) (2.23.0)\n",
            "Requirement already satisfied: filelock in /usr/local/lib/python3.7/dist-packages (from gdown==4.3.0) (3.7.1)\n",
            "Requirement already satisfied: tqdm in /usr/local/lib/python3.7/dist-packages (from gdown==4.3.0) (4.64.0)\n",
            "Requirement already satisfied: six in /usr/local/lib/python3.7/dist-packages (from gdown==4.3.0) (1.15.0)\n",
            "Requirement already satisfied: chardet<4,>=3.0.2 in /usr/local/lib/python3.7/dist-packages (from requests[socks]->gdown==4.3.0) (3.0.4)\n",
            "Requirement already satisfied: idna<3,>=2.5 in /usr/local/lib/python3.7/dist-packages (from requests[socks]->gdown==4.3.0) (2.10)\n",
            "Requirement already satisfied: urllib3!=1.25.0,!=1.25.1,<1.26,>=1.21.1 in /usr/local/lib/python3.7/dist-packages (from requests[socks]->gdown==4.3.0) (1.24.3)\n",
            "Requirement already satisfied: certifi>=2017.4.17 in /usr/local/lib/python3.7/dist-packages (from requests[socks]->gdown==4.3.0) (2022.6.15)\n",
            "Requirement already satisfied: PySocks!=1.5.7,>=1.5.6 in /usr/local/lib/python3.7/dist-packages (from requests[socks]->gdown==4.3.0) (1.7.1)\n",
            "Building wheels for collected packages: gdown\n",
            "  Building wheel for gdown (PEP 517) ... \u001b[?25l\u001b[?25hdone\n",
            "  Created wheel for gdown: filename=gdown-4.3.0-py3-none-any.whl size=14412 sha256=09478591155ae587fe280e280252fdcf15bd7d8445e3ac89fa219acdc04661c2\n",
            "  Stored in directory: /root/.cache/pip/wheels/fd/ce/f8/389eafb78bce55ea78740dfcafc3c9da6f5e70d25c0377610d\n",
            "Successfully built gdown\n",
            "Installing collected packages: gdown\n",
            "  Attempting uninstall: gdown\n",
            "    Found existing installation: gdown 4.4.0\n",
            "    Uninstalling gdown-4.4.0:\n",
            "      Successfully uninstalled gdown-4.4.0\n",
            "Successfully installed gdown-4.3.0\n"
          ]
        }
      ],
      "source": [
        "# Import libraries\n",
        "!pip install gdown==4.3.0\n",
        "import gdown\n",
        "from IPython.display import clear_output\n",
        "from scipy.io import loadmat, savemat\n",
        "import numpy as np\n",
        "from matplotlib import pyplot as plt\n",
        "from sklearn import preprocessing\n",
        "from sklearn.utils import class_weight\n",
        "import collections\n",
        "from sklearn.model_selection import train_test_split\n",
        "from tensorflow import keras\n",
        "import tensorflow as tf\n",
        "# GradCam\n",
        "import cv2\n",
        "# Augment function\n",
        "from random import choice\n",
        "import scipy.ndimage as ndi\n",
        "from scipy.ndimage.interpolation import map_coordinates\n",
        "from scipy.ndimage.filters import gaussian_filter\n",
        "\n",
        "## Check gpu availability\n",
        "# device_name = tf.test.gpu_device_name()\n",
        "# if device_name != '/device:GPU:0':\n",
        "#    raise SystemError('GPU device not found')\n",
        "# print('Found GPU at: {}'.format(device_name))"
      ]
    },
    {
      "cell_type": "code",
      "source": [
        "from sklearn.metrics import roc_curve, auc\n",
        "from sklearn.preprocessing import label_binarize\n",
        "from matplotlib.ticker import (MultipleLocator, FormatStrFormatter,\n",
        "                               AutoMinorLocator)"
      ],
      "metadata": {
        "id": "6iCyiMrWYbLw"
      },
      "execution_count": 2,
      "outputs": []
    },
    {
      "cell_type": "markdown",
      "metadata": {
        "id": "DBlPNOoJwfj2"
      },
      "source": [
        "## Functions for augmentation"
      ]
    },
    {
      "cell_type": "code",
      "execution_count": 3,
      "metadata": {
        "id": "ehLSGtcBwfQS"
      },
      "outputs": [],
      "source": [
        "def transform_matrix_offset_center(matrix, x, y):\n",
        "    o_x = float(x) / 2 + 0.5\n",
        "    o_y = float(y) / 2 + 0.5\n",
        "    offset_matrix = np.array([[1, 0, o_x], [0, 1, o_y], [0, 0, 1]])\n",
        "    reset_matrix = np.array([[1, 0, -o_x], [0, 1, -o_y], [0, 0, 1]])\n",
        "    transform_matrix = np.dot(np.dot(offset_matrix, matrix), reset_matrix)\n",
        "    return transform_matrix\n",
        "\n",
        "def apply_transform(x,\n",
        "                    transform_matrix,\n",
        "                    channel_axis=0,\n",
        "                    fill_mode='nearest',\n",
        "                    cval=0.):\n",
        "\n",
        "    x = np.rollaxis(x, channel_axis, 0)\n",
        "    final_affine_matrix = transform_matrix[:2, :2]\n",
        "    final_offset = transform_matrix[:2, 2]\n",
        "    channel_images = [ndi.interpolation.affine_transform(\n",
        "        x_channel,\n",
        "        final_affine_matrix,\n",
        "        final_offset,\n",
        "        order=3,\n",
        "        mode=fill_mode,\n",
        "        cval=cval) for x_channel in x]\n",
        "    x = np.stack(channel_images, axis=0)\n",
        "    x = np.rollaxis(x, 0, channel_axis + 1)\n",
        "    return x\n",
        "\n",
        "# Random shift\n",
        "def random_shift(img, wrg=0.2, hrg=0.2, row_axis=0, col_axis=1, channel_axis=2, fill_mode='nearest', cval=0.):\n",
        "\n",
        "    h, w = img.shape[row_axis], img.shape[col_axis]\n",
        "    tx = np.random.uniform(-hrg, hrg) * h\n",
        "    ty = np.random.uniform(-wrg, wrg) * w\n",
        "    translation_matrix = np.array([[1, 0, tx],\n",
        "                                   [0, 1, ty],\n",
        "                                   [0, 0, 1]])\n",
        "\n",
        "    transform_matrix = translation_matrix\n",
        "    img = apply_transform(img, transform_matrix, channel_axis, fill_mode, cval)\n",
        "    return img\n",
        "\n",
        "# Random zoom\n",
        "def random_zoom(img, zoom_range=(0.88, 1.12), row_axis=0, col_axis=1, channel_axis=2, fill_mode='nearest', cval=0.):\n",
        "\n",
        "    if len(zoom_range) != 2:\n",
        "        raise ValueError('`zoom_range` should be a tuple or list of two floats. '\n",
        "                         'Received arg: ', zoom_range)\n",
        "\n",
        "    if zoom_range[0] == 1 and zoom_range[1] == 1:\n",
        "        zx, zy = 1, 1\n",
        "    else:\n",
        "        zx, zy = np.random.uniform(zoom_range[0], zoom_range[1], 2)\n",
        "    zoom_matrix = np.array([[zx, 0, 0],\n",
        "                            [0, zy, 0],\n",
        "                            [0, 0, 1]])\n",
        "\n",
        "    h, w = img.shape[row_axis], img.shape[col_axis]\n",
        "    transform_matrix = transform_matrix_offset_center(zoom_matrix, h, w)\n",
        "    img = apply_transform(img, transform_matrix, channel_axis, fill_mode, cval)\n",
        "    return img\n",
        "\n",
        "# Elastic transform\n",
        "def elastic_deform(img, alpha=0.2, sigma=0.08, random_state=None):\n",
        "\n",
        "    if random_state is None:\n",
        "        random_state = np.random.RandomState(None)\n",
        "    else:\n",
        "        random_state = np.random.RandomState(random_state)\n",
        "\n",
        "    shape = img.shape\n",
        "    dx = gaussian_filter((random_state.rand(*shape) * 2 - 1), sigma, mode=\"constant\", cval=0) * alpha\n",
        "    dy = gaussian_filter((random_state.rand(*shape) * 2 - 1), sigma, mode=\"constant\", cval=0) * alpha\n",
        "    dz = np.zeros_like(dx)\n",
        "\n",
        "    x, y, z = np.meshgrid(np.arange(shape[0]), np.arange(shape[1]), np.arange(shape[2]))\n",
        "    indices = np.reshape(y+dy, (-1, 1)), np.reshape(x+dx, (-1, 1)), np.reshape(z, (-1, 1))\n",
        "\n",
        "    distored_image = map_coordinates(img, indices, order=1, mode='reflect')\n",
        "    return distored_image.reshape(img.shape)\n",
        "\n",
        "#### BEHZAD: We can have mirror around lateral axis (left to right but not front to back)\n",
        "def mirror_lateral(img, row_axis=0, col_axis=1, channel_axis=2, fill_mode='nearest', cval=0.):\n",
        "\n",
        "    h, w = img.shape[row_axis], img.shape[col_axis]\n",
        "    translation_matrix = np.array([[1, 0, 0],\n",
        "                                   [0, -1, 0],\n",
        "                                   [0, 0, 1]])\n",
        "\n",
        "    transform_matrix = transform_matrix_offset_center(translation_matrix, h, w)\n",
        "    img = apply_transform(img, transform_matrix, channel_axis, fill_mode, cval)\n",
        "    return img\n",
        "\n",
        "\n",
        "# FillMode = 'constant', 'nearest', 'reflect', 'wrap'\n",
        "fns = [random_shift, random_zoom, elastic_deform] # Based on the reviewer comments we removed \"mirror_lateral\""
      ]
    },
    {
      "cell_type": "markdown",
      "metadata": {
        "id": "lM0HddKVW-S7"
      },
      "source": [
        "## Data preparation"
      ]
    },
    {
      "cell_type": "code",
      "execution_count": 4,
      "metadata": {
        "colab": {
          "base_uri": "https://localhost:8080/"
        },
        "id": "gNC_rPG8eM_n",
        "outputId": "18c85c6f-bea4-4c73-81be-8f6d2e08a7c3"
      },
      "outputs": [
        {
          "output_type": "stream",
          "name": "stdout",
          "text": [
            "The download was successful\n"
          ]
        }
      ],
      "source": [
        "# Download Data\n",
        "#Links = {\n",
        "#    'data.mat' : '1yXvY1u2Pbqsv2joCljf6zHc53AxEY7su', \n",
        "#}\n",
        "# New data \n",
        "Links = {\n",
        "    #'data.mat' : '1T1cNIAtPGGMfFWXmPzJ-sZJeyGbNmu2r', \n",
        "     'data.mat'  :  '1mP7t9TlT1F4854PPV3FLgirI_XbMP1VK', # Primary dataset from openneuro\n",
        "     #'data.mat' : '1CsXodGAjq28zU2UMVrG5jC_pZJocvEZC', # Secondary dataset from OSF, this gives out of memory!!!!\n",
        "    }\n",
        "\n",
        "for Item in Links:\n",
        "  url = f'https://drive.google.com/uc?id={Links[Item]}'\n",
        "  gdown.download(url, Item, quiet=False)\n",
        "  clear_output(wait=True)\n",
        "print('The download was successful')"
      ]
    },
    {
      "cell_type": "code",
      "execution_count": 5,
      "metadata": {
        "id": "YBaKZJNKi8rr"
      },
      "outputs": [],
      "source": [
        "# Read data\n",
        "\n",
        "Data = loadmat('data.mat')\n",
        "\n",
        "Images = np.array([Data['dat'][0, 0]['Image'][0, Item] for Item in range(len(Data['dat'][0, 0]['Image'][0]))]).astype('float32')\n",
        "Images = np.nan_to_num(Images)\n",
        "Labels = [Data['dat'][0, 0]['Lable'][0, Item][0] for Item in range(len(Data['dat'][0, 0]['Lable'][0]))]\n",
        "FileNames = [Data['dat'][0, 0]['file'][0, Item][0] for Item in range(len(Data['dat'][0, 0]['file'][0]))]\n",
        "\n",
        "del Data"
      ]
    },
    {
      "cell_type": "code",
      "execution_count": 6,
      "metadata": {
        "id": "fFk2CStW5Mg6",
        "colab": {
          "base_uri": "https://localhost:8080/",
          "height": 0
        },
        "outputId": "ae16846f-f52f-48a3-ecd3-b8264f783d72"
      },
      "outputs": [
        {
          "output_type": "display_data",
          "data": {
            "text/plain": [
              "<Figure size 432x288 with 4 Axes>"
            ],
            "image/png": "[encoded data removed]"
          },
          "metadata": {}
        }
      ],
      "source": [
        "index = 5002\n",
        "fig, axs = plt.subplots(1,4)\n",
        "axs[0].imshow(Images[index][:, :, 10]) \n",
        "axs[0].set_yticks([])\n",
        "axs[0].set_xticks([]) \n",
        "axs[0].set_title('Original')\n",
        "\n",
        "tmp = random_shift(Images[index])\n",
        "axs[1].imshow(tmp[:,:,10])\n",
        "axs[1].set_yticks([])\n",
        "axs[1].set_xticks([])\n",
        "axs[1].set_title('Random shift')\n",
        "\n",
        "tmp = random_zoom(Images[index])\n",
        "axs[2].imshow(tmp[:,:,10])\n",
        "axs[2].set_yticks([])\n",
        "axs[2].set_xticks([])\n",
        "axs[2].set_title('Random zoom')\n",
        "\n",
        "\n",
        "tmp = elastic_deform(Images[index])\n",
        "axs[3].imshow(tmp[:,:,10])\n",
        "axs[3].set_yticks([])\n",
        "axs[3].set_xticks([])\n",
        "axs[3].set_title('Elastic deform')\n",
        "\n",
        "\n",
        "plt.savefig('Augmentation.png', dpi=300)\n",
        "plt.savefig('Augmentation.svg')"
      ]
    },
    {
      "cell_type": "code",
      "execution_count": 7,
      "metadata": {
        "id": "FC8ncFWsCHlA"
      },
      "outputs": [],
      "source": [
        "# Label encoding\n",
        "y = preprocessing.LabelEncoder()\n",
        "y.fit(Labels)\n",
        "y = y.transform(Labels)"
      ]
    },
    {
      "cell_type": "code",
      "execution_count": 8,
      "metadata": {
        "id": "va51lb233EMX",
        "colab": {
          "base_uri": "https://localhost:8080/"
        },
        "outputId": "11a77d65-1bd1-4f54-adfa-e91f3193e142"
      },
      "outputs": [
        {
          "output_type": "stream",
          "name": "stdout",
          "text": [
            "Counter({'pd_on': 3120, 'pd_off': 3000, 'control': 2946})\n",
            "Counter({2: 3120, 1: 3000, 0: 2946})\n"
          ]
        }
      ],
      "source": [
        "print(collections.Counter(Labels))\n",
        "print(collections.Counter(y))"
      ]
    },
    {
      "cell_type": "code",
      "execution_count": 9,
      "metadata": {
        "id": "qoAlnhUkGbxX"
      },
      "outputs": [],
      "source": [
        "# Train/Test/Validation Set Splitting\n",
        "x_train, x_rem, y_train_int, y_rem_int = train_test_split(Images, y, test_size=0.25, random_state=4, stratify=y) # increased test/validation from .15 to .25\n",
        "x_valid, x_test, y_valid_int, y_test_int = train_test_split(x_rem, y_rem_int, test_size=0.5, random_state=4, stratify=y_rem_int)\n",
        "\n",
        "del x_rem, y_rem_int, Images, Labels"
      ]
    },
    {
      "cell_type": "code",
      "execution_count": 10,
      "metadata": {
        "id": "Uc4h05tW4Hkv"
      },
      "outputs": [],
      "source": [
        "# Define and quantify variables\n",
        "\n",
        "DataShape = (x_train.shape[1], x_train.shape[2], x_train.shape[3])\n",
        "n_classes = len(np.unique(y))\n",
        "# n_classes = len(set(y))\n",
        "\n",
        "batch_size = 25 # BEHZAD changed this from 50 to 25, to get more samples per batch  #2\n",
        "dropout_rate = 0.5\n",
        "epochs = 100     \n",
        "learning_rate = 1e-4\n",
        "\n",
        "tf.random.set_seed(123)\n",
        "\n",
        "# GradCam\n",
        "NewDataShape = (x_train.shape[1], x_train.shape[2], x_train.shape[3])"
      ]
    },
    {
      "cell_type": "code",
      "execution_count": 11,
      "metadata": {
        "id": "JxJL0myD7DaC"
      },
      "outputs": [],
      "source": [
        "# Data augmentation\n",
        "\n",
        "AugmentedData = np.zeros((len(x_train), DataShape[0], DataShape[1], DataShape[2]))\n",
        "AugmentedDataY = []\n",
        "\n",
        "for Index, (Item_X, Item_Y) in enumerate(zip(x_train, y_train_int)):\n",
        "  AugmentedData[Index, :, :, :] = choice(fns)(Item_X)\n",
        "  AugmentedDataY.append(Item_Y)\n",
        "\n",
        "AugmentedDataY = np.array(AugmentedDataY)\n",
        "\n",
        "x_train = np.concatenate((x_train, AugmentedData), axis=0)\n",
        "y_train_int = np.concatenate((y_train_int, AugmentedDataY), axis=0)\n",
        "\n",
        "del AugmentedDataY"
      ]
    },
    {
      "cell_type": "code",
      "execution_count": 12,
      "metadata": {
        "id": "F7C7tiHM_G-s",
        "colab": {
          "base_uri": "https://localhost:8080/"
        },
        "outputId": "1b305863-7146-47a6-eb53-5df44eab5b44"
      },
      "outputs": [
        {
          "output_type": "stream",
          "name": "stdout",
          "text": [
            "({0: 1.0259544288516673, 1: 1.0072592592592593, 2: 0.9685185185185186},)\n"
          ]
        }
      ],
      "source": [
        "# Adding class weights\n",
        "\n",
        "class_weights = class_weight.compute_class_weight(class_weight = \"balanced\",\n",
        "                                                  classes = np.unique(y_train_int),\n",
        "                                                  y = y_train_int)\n",
        "\n",
        "class_weights = dict(zip(np.unique(y_train_int), class_weights)),\n",
        "\n",
        "print(class_weights)"
      ]
    },
    {
      "cell_type": "code",
      "execution_count": 13,
      "metadata": {
        "id": "9-nUIJu2YS-N",
        "colab": {
          "base_uri": "https://localhost:8080/",
          "height": 0
        },
        "outputId": "d6529c7e-ca75-4263-8ced-8d807eb9cc14"
      },
      "outputs": [
        {
          "output_type": "display_data",
          "data": {
            "text/plain": [
              "<Figure size 432x288 with 2 Axes>"
            ],
            "image/png": "[encoded data removed]"
          },
          "metadata": {
            "needs_background": "light"
          }
        }
      ],
      "source": [
        "plt.imshow(x_train[5000][:, :, 10])\n",
        "plt.colorbar()\n",
        "plt.show()"
      ]
    },
    {
      "cell_type": "code",
      "execution_count": 14,
      "metadata": {
        "id": "mVvZ6UkT7REj",
        "colab": {
          "base_uri": "https://localhost:8080/"
        },
        "outputId": "017b6259-7ac9-465e-99b3-9fa63ec9d521"
      },
      "outputs": [
        {
          "output_type": "stream",
          "name": "stdout",
          "text": [
            "(13598, 20, 20, 50)\n",
            "Counter({2: 4680, 1: 4500, 0: 4418})\n",
            "(1133, 20, 20, 50)\n",
            "Counter({2: 390, 1: 375, 0: 368})\n",
            "(1134, 20, 20, 50)\n",
            "Counter({2: 390, 1: 375, 0: 369})\n"
          ]
        }
      ],
      "source": [
        "print(x_train.shape)\n",
        "print(collections.Counter(y_train_int))\n",
        "print(x_valid.shape)\n",
        "print(collections.Counter(y_valid_int))\n",
        "print(x_test.shape)\n",
        "print(collections.Counter(y_test_int))"
      ]
    },
    {
      "cell_type": "code",
      "execution_count": 15,
      "metadata": {
        "id": "xi0du0eWz0ve"
      },
      "outputs": [],
      "source": [
        "def spatial_zscore(X): # BEHZAD added this but ended up not using it\n",
        "  [s0,s1,s2,s3] = X.shape\n",
        "  Xz =[]\n",
        "  for i in range(s0):\n",
        "    xmean = np.tile(np.nanmean(np.reshape(X[i],[s1*s2,s3]), axis = 0), [s1,s2,1]);\n",
        "    xstd = np.tile(np.nanstd(np.reshape(X[i],[s1*s2,s3]), axis = 0),[s1,s2,1]);\n",
        "    Xz.append((X[i]-xmean)/xstd)\n",
        "  return Xz"
      ]
    },
    {
      "cell_type": "code",
      "execution_count": 16,
      "metadata": {
        "id": "kEuqyB3CdKlO"
      },
      "outputs": [],
      "source": [
        "# z-scoring to normalize the data # BEHZAD commented out this because resampled data to normal dist.\n",
        "\n",
        "#x_mean = np.mean(np.concatenate((x_train, x_valid, x_test), axis = 0)) # BEHZAD chagned this to all three\n",
        "#x_std = np.std(np.concatenate((x_train, x_valid, x_test), axis = 0)) # BEHZAD chagned this to all three\n",
        "#x_train = (x_train - x_mean)/x_std\n",
        "#x_valid = (x_valid - x_mean)/x_std\n",
        "#x_test = (x_test - x_mean)/x_std\n",
        "\n",
        "#del x_mean, x_std\n",
        "# changed it to within sample z-scoring\n",
        "#TRAIN\n",
        "#x_train      = spatial_zscore(x_train)\n",
        "# convert to ndarray\n",
        "#x_train = np.asarray(x_train)\n",
        "#VALID\n",
        "#x_valid      = spatial_zscore(x_valid)\n",
        "# convert to ndarray\n",
        "#x_valid  = np.asarray(x_valid)\n",
        "#TEST\n",
        "#x_test       = spatial_zscore(x_test)\n",
        "# convert to ndarray\n",
        "#x_test = np.asarray(x_test)"
      ]
    },
    {
      "cell_type": "code",
      "execution_count": 17,
      "metadata": {
        "id": "1aqcDFejUFTM",
        "colab": {
          "base_uri": "https://localhost:8080/",
          "height": 0
        },
        "outputId": "eec3e7ab-14c4-44e0-fbb9-42db96bcec4f"
      },
      "outputs": [
        {
          "output_type": "display_data",
          "data": {
            "text/plain": [
              "<Figure size 432x288 with 2 Axes>"
            ],
            "image/png": "[encoded data removed]"
          },
          "metadata": {
            "needs_background": "light"
          }
        },
        {
          "output_type": "stream",
          "name": "stdout",
          "text": [
            "1\n"
          ]
        }
      ],
      "source": [
        "plt.imshow(x_train[304][:, :, 48])\n",
        "plt.colorbar()\n",
        "plt.show()\n",
        "print(y_train_int[304])"
      ]
    },
    {
      "cell_type": "markdown",
      "metadata": {
        "id": "pOMJawB3WxxQ"
      },
      "source": [
        "## 3D convolutional neural network"
      ]
    },
    {
      "cell_type": "code",
      "execution_count": 18,
      "metadata": {
        "id": "LT4MM_f4cDpe"
      },
      "outputs": [],
      "source": [
        "y_train = keras.utils.to_categorical(y_train_int, num_classes=n_classes)\n",
        "y_valid = keras.utils.to_categorical(y_valid_int, num_classes=n_classes)\n",
        "y_test = keras.utils.to_categorical(y_test_int, num_classes=n_classes)"
      ]
    },
    {
      "cell_type": "code",
      "execution_count": 19,
      "metadata": {
        "id": "S1N1gRHnEfNp"
      },
      "outputs": [],
      "source": [
        "@tf.function\n",
        "\n",
        "def train_preprocessing(volume, label):\n",
        "    volume = tf.expand_dims(volume, axis=3)\n",
        "    return volume, label\n",
        "\n",
        "def validation_preprocessing(volume, label):\n",
        "    volume = tf.expand_dims(volume, axis=3)\n",
        "    return volume, label"
      ]
    },
    {
      "cell_type": "code",
      "execution_count": 20,
      "metadata": {
        "id": "4GA6nqugGSGb"
      },
      "outputs": [],
      "source": [
        "train_loader = tf.data.Dataset.from_tensor_slices((x_train, y_train))\n",
        "validation_loader = tf.data.Dataset.from_tensor_slices((x_valid, y_valid))\n",
        "\n",
        "train_dataset = (\n",
        "    train_loader.shuffle(len(x_train))\n",
        "    .map(train_preprocessing)\n",
        "    .batch(batch_size)\n",
        "    .prefetch(2)\n",
        ")\n",
        "\n",
        "validation_dataset = (\n",
        "    validation_loader.shuffle(len(x_valid))\n",
        "    .map(validation_preprocessing)\n",
        "    .batch(batch_size)\n",
        "    .prefetch(2)\n",
        ")"
      ]
    },
    {
      "cell_type": "code",
      "execution_count": 21,
      "metadata": {
        "id": "ki0saOV1Hs9U",
        "colab": {
          "base_uri": "https://localhost:8080/",
          "height": 301
        },
        "outputId": "43253fb9-fc1a-4ec2-dbb9-593320b627b3"
      },
      "outputs": [
        {
          "output_type": "stream",
          "name": "stdout",
          "text": [
            "Dimension of the img is: (20, 20, 50, 1)\n"
          ]
        },
        {
          "output_type": "execute_result",
          "data": {
            "text/plain": [
              "<matplotlib.image.AxesImage at 0x7f524f249e90>"
            ]
          },
          "metadata": {},
          "execution_count": 21
        },
        {
          "output_type": "display_data",
          "data": {
            "text/plain": [
              "<Figure size 432x288 with 1 Axes>"
            ],
            "image/png": "[encoded data removed]"
          },
          "metadata": {
            "needs_background": "light"
          }
        }
      ],
      "source": [
        "data = train_dataset.take(1)\n",
        "images, labels = list(data)[0]\n",
        "images = images.numpy()\n",
        "image = images[0]\n",
        "print(\"Dimension of the img is:\", image.shape)\n",
        "plt.imshow(np.squeeze(image[:, :, 30]))"
      ]
    },
    {
      "cell_type": "code",
      "execution_count": 22,
      "metadata": {
        "id": "wk7BNxY9H8pI",
        "colab": {
          "base_uri": "https://localhost:8080/",
          "height": 463
        },
        "outputId": "3be7d337-85ad-4f42-8c76-d883e268270e"
      },
      "outputs": [
        {
          "output_type": "display_data",
          "data": {
            "text/plain": [
              "<Figure size 864x432 with 50 Axes>"
            ],
            "image/png": "[encoded data removed]"
          },
          "metadata": {
            "needs_background": "light"
          }
        }
      ],
      "source": [
        "def plot_slices(num_rows, num_columns, width, height, data):\n",
        "    data = np.rot90(np.array(data))\n",
        "    data = np.transpose(data)\n",
        "    data = np.reshape(data, (num_rows, num_columns, width, height))\n",
        "    rows_data, columns_data = data.shape[0], data.shape[1]\n",
        "    heights = [slc[0].shape[0] for slc in data]\n",
        "    widths = [slc.shape[1] for slc in data[0]]\n",
        "    fig_width = 12.0\n",
        "    fig_height = fig_width * sum(heights) / sum(widths)\n",
        "    f, axarr = plt.subplots(\n",
        "        rows_data,\n",
        "        columns_data,\n",
        "        figsize=(fig_width, fig_height),\n",
        "        gridspec_kw={\"height_ratios\": heights},\n",
        "    )\n",
        "    for i in range(rows_data):\n",
        "        for j in range(columns_data):\n",
        "            axarr[i, j].imshow(data[i][j], cmap=\"jet\")\n",
        "            axarr[i, j].axis(\"off\")\n",
        "    plt.subplots_adjust(wspace=0, hspace=0, left=0, right=1, bottom=0, top=1)\n",
        "    plt.show()\n",
        "\n",
        "\n",
        "# Visualize montage of slices.\n",
        "plot_slices(5, 10, DataShape[0], DataShape[1], image[:, :, :50])"
      ]
    },
    {
      "cell_type": "code",
      "execution_count": 23,
      "metadata": {
        "id": "oOs9aDVPIXjO"
      },
      "outputs": [],
      "source": [
        "def get_model(width=DataShape[0], height=DataShape[1], depth=DataShape[2]):\n",
        "  \n",
        "  initializer = keras.initializers.GlorotNormal()\n",
        "  # initializer = keras.initializers.GlorotUniform()\n",
        "\n",
        "  inputs = keras.Input((width, height, depth, 1))\n",
        "\n",
        "  x = keras.layers.Conv3D(filters=2, kernel_size=(3, 3, 3), strides=(1, 1, 1), padding='same', activation=\"sigmoid\", kernel_initializer=initializer, kernel_regularizer = tf.keras.regularizers.l1_l2(l1=1e-4, l2=1e-2), use_bias=True)(inputs)\n",
        "  x = keras.layers.AveragePooling3D(pool_size=(2, 2, 2), strides=(2, 2, 2), padding='same')(x)\n",
        "\n",
        "  x = keras.layers.Conv3D(filters=3, kernel_size=(3, 3, 3), strides=(1, 1, 1), padding='same', activation=\"sigmoid\", kernel_initializer=initializer, kernel_regularizer = tf.keras.regularizers.l1_l2(l1=1e-4, l2=1e-2), use_bias=True)(x)\n",
        "  x = keras.layers.AveragePooling3D(pool_size=(2, 2, 2), strides=(2, 2, 2), padding='same')(x)\n",
        "\n",
        "  x = keras.layers.Conv3D(filters=3, kernel_size=(3, 3, 3), strides=(1, 1, 1), padding='same', activation=\"sigmoid\", kernel_initializer=initializer, kernel_regularizer = tf.keras.regularizers.l1_l2(l1=1e-4, l2=1e-2), use_bias=True)(x)\n",
        "  x = keras.layers.AveragePooling3D(pool_size=(2, 2, 2), strides=(2, 2, 2), padding='same')(x)\n",
        "  \n",
        "  x = keras.layers.BatchNormalization(scale=False, center=False)(x) #\n",
        "  #x = keras.layers.GlobalMaxPooling3D()(x)\n",
        "  \n",
        "  # x = keras.layers.GlobalAveragePooling3D()(x)\n",
        "  x = keras.layers.Flatten()(x)\n",
        "  \n",
        "  #x = keras.layers.Dense(units=3, activation=\"linear\", kernel_initializer=initializer, kernel_regularizer = tf.keras.regularizers.l1_l2(l1=1e-4, l2=1e-3))(x)\n",
        "  x = keras.layers.Dropout(dropout_rate)(x)\n",
        "  x = keras.layers.ReLU()(x)\n",
        "  # outputs = keras.layers.Dense(units=n_classes, activation=\"sigmoid\")(x)\n",
        "  # outputs = keras.layers.Dense(units=n_classes, activation=\"softmax\", kernel_initializer=initializer)(x)\n",
        "  outputs = keras.layers.Dense(units=n_classes, activation=\"softmax\", kernel_initializer=initializer, kernel_regularizer = tf.keras.regularizers.l1_l2(l1=1e-4, l2=1e-2))(x)\n",
        "\n",
        "  # Define the model.\n",
        "  model = keras.Model(inputs, outputs, name=\"Parkinson3D\")\n",
        "  return model"
      ]
    },
    {
      "cell_type": "code",
      "execution_count": 24,
      "metadata": {
        "id": "XfH8fl2bGnxL",
        "colab": {
          "base_uri": "https://localhost:8080/"
        },
        "outputId": "30a01263-1ca9-4b9e-9762-88140b48f5ef"
      },
      "outputs": [
        {
          "output_type": "stream",
          "name": "stdout",
          "text": [
            "Model: \"Parkinson3D\"\n",
            "_________________________________________________________________\n",
            " Layer (type)                Output Shape              Param #   \n",
            "=================================================================\n",
            " input_1 (InputLayer)        [(None, 20, 20, 50, 1)]   0         \n",
            "                                                                 \n",
            " conv3d (Conv3D)             (None, 20, 20, 50, 2)     56        \n",
            "                                                                 \n",
            " average_pooling3d (AverageP  (None, 10, 10, 25, 2)    0         \n",
            " ooling3D)                                                       \n",
            "                                                                 \n",
            " conv3d_1 (Conv3D)           (None, 10, 10, 25, 3)     165       \n",
            "                                                                 \n",
            " average_pooling3d_1 (Averag  (None, 5, 5, 13, 3)      0         \n",
            " ePooling3D)                                                     \n",
            "                                                                 \n",
            " conv3d_2 (Conv3D)           (None, 5, 5, 13, 3)       246       \n",
            "                                                                 \n",
            " average_pooling3d_2 (Averag  (None, 3, 3, 7, 3)       0         \n",
            " ePooling3D)                                                     \n",
            "                                                                 \n",
            " batch_normalization (BatchN  (None, 3, 3, 7, 3)       6         \n",
            " ormalization)                                                   \n",
            "                                                                 \n",
            " flatten (Flatten)           (None, 189)               0         \n",
            "                                                                 \n",
            " dropout (Dropout)           (None, 189)               0         \n",
            "                                                                 \n",
            " re_lu (ReLU)                (None, 189)               0         \n",
            "                                                                 \n",
            " dense (Dense)               (None, 3)                 570       \n",
            "                                                                 \n",
            "=================================================================\n",
            "Total params: 1,043\n",
            "Trainable params: 1,037\n",
            "Non-trainable params: 6\n",
            "_________________________________________________________________\n"
          ]
        }
      ],
      "source": [
        "# Build model.\n",
        "\n",
        "model = get_model(width=DataShape[0], height=DataShape[1], depth=DataShape[2])\n",
        "model.summary()"
      ]
    },
    {
      "cell_type": "code",
      "execution_count": 25,
      "metadata": {
        "id": "kbnLIxhegz70",
        "colab": {
          "base_uri": "https://localhost:8080/"
        },
        "outputId": "8260a12b-2471-4e42-ed39-6b12f6abc30f"
      },
      "outputs": [
        {
          "output_type": "stream",
          "name": "stdout",
          "text": [
            "Epoch 1/100\n",
            "544/544 [==============================] - 18s 9ms/step - loss: 1.3216 - acc: 0.3294 - val_loss: 1.2057 - val_acc: 0.3310\n",
            "Epoch 2/100\n",
            "544/544 [==============================] - 4s 8ms/step - loss: 1.2243 - acc: 0.3384 - val_loss: 1.1874 - val_acc: 0.4139\n",
            "Epoch 3/100\n",
            "544/544 [==============================] - 4s 8ms/step - loss: 1.1929 - acc: 0.3467 - val_loss: 1.1751 - val_acc: 0.4801\n",
            "Epoch 4/100\n",
            "544/544 [==============================] - 4s 8ms/step - loss: 1.1752 - acc: 0.3615 - val_loss: 1.1623 - val_acc: 0.4422\n",
            "Epoch 5/100\n",
            "544/544 [==============================] - 4s 8ms/step - loss: 1.1597 - acc: 0.3991 - val_loss: 1.1494 - val_acc: 0.4678\n",
            "Epoch 6/100\n",
            "544/544 [==============================] - 5s 9ms/step - loss: 1.1452 - acc: 0.4239 - val_loss: 1.1341 - val_acc: 0.5004\n",
            "Epoch 7/100\n",
            "544/544 [==============================] - 4s 8ms/step - loss: 1.1336 - acc: 0.4351 - val_loss: 1.1242 - val_acc: 0.4934\n",
            "Epoch 8/100\n",
            "544/544 [==============================] - 4s 8ms/step - loss: 1.1211 - acc: 0.4573 - val_loss: 1.1139 - val_acc: 0.5190\n",
            "Epoch 9/100\n",
            "544/544 [==============================] - 4s 8ms/step - loss: 1.1115 - acc: 0.4661 - val_loss: 1.1063 - val_acc: 0.5049\n",
            "Epoch 10/100\n",
            "544/544 [==============================] - 4s 8ms/step - loss: 1.1072 - acc: 0.4651 - val_loss: 1.1023 - val_acc: 0.5013\n",
            "Epoch 11/100\n",
            "544/544 [==============================] - 4s 8ms/step - loss: 1.0992 - acc: 0.4787 - val_loss: 1.0913 - val_acc: 0.4890\n",
            "Epoch 12/100\n",
            "544/544 [==============================] - 4s 8ms/step - loss: 1.0965 - acc: 0.4837 - val_loss: 1.0960 - val_acc: 0.4898\n",
            "Epoch 13/100\n",
            "544/544 [==============================] - 4s 8ms/step - loss: 1.0924 - acc: 0.4817 - val_loss: 1.0856 - val_acc: 0.5137\n",
            "Epoch 14/100\n",
            "544/544 [==============================] - 4s 8ms/step - loss: 1.0845 - acc: 0.4925 - val_loss: 1.0763 - val_acc: 0.5084\n",
            "Epoch 15/100\n",
            "544/544 [==============================] - 4s 8ms/step - loss: 1.0812 - acc: 0.4960 - val_loss: 1.0792 - val_acc: 0.5278\n",
            "Epoch 16/100\n",
            "544/544 [==============================] - 4s 8ms/step - loss: 1.0753 - acc: 0.5059 - val_loss: 1.0766 - val_acc: 0.5269\n",
            "Epoch 17/100\n",
            "544/544 [==============================] - 4s 8ms/step - loss: 1.0709 - acc: 0.5026 - val_loss: 1.0633 - val_acc: 0.5508\n",
            "Epoch 18/100\n",
            "544/544 [==============================] - 4s 8ms/step - loss: 1.0688 - acc: 0.5079 - val_loss: 1.0569 - val_acc: 0.5543\n",
            "Epoch 19/100\n",
            "544/544 [==============================] - 4s 8ms/step - loss: 1.0656 - acc: 0.5065 - val_loss: 1.0562 - val_acc: 0.5569\n",
            "Epoch 20/100\n",
            "544/544 [==============================] - 4s 8ms/step - loss: 1.0606 - acc: 0.5147 - val_loss: 1.0515 - val_acc: 0.5543\n",
            "Epoch 21/100\n",
            "544/544 [==============================] - 4s 8ms/step - loss: 1.0614 - acc: 0.5094 - val_loss: 1.0478 - val_acc: 0.5675\n",
            "Epoch 22/100\n",
            "544/544 [==============================] - 4s 8ms/step - loss: 1.0581 - acc: 0.5178 - val_loss: 1.0422 - val_acc: 0.5675\n",
            "Epoch 23/100\n",
            "544/544 [==============================] - 4s 8ms/step - loss: 1.0568 - acc: 0.5211 - val_loss: 1.0392 - val_acc: 0.5728\n",
            "Epoch 24/100\n",
            "544/544 [==============================] - 5s 9ms/step - loss: 1.0555 - acc: 0.5185 - val_loss: 1.0389 - val_acc: 0.5755\n",
            "Epoch 25/100\n",
            "544/544 [==============================] - 4s 8ms/step - loss: 1.0542 - acc: 0.5255 - val_loss: 1.0354 - val_acc: 0.5719\n",
            "Epoch 26/100\n",
            "544/544 [==============================] - 4s 8ms/step - loss: 1.0486 - acc: 0.5234 - val_loss: 1.0361 - val_acc: 0.5666\n",
            "Epoch 27/100\n",
            "544/544 [==============================] - 4s 8ms/step - loss: 1.0491 - acc: 0.5268 - val_loss: 1.0316 - val_acc: 0.5658\n",
            "Epoch 28/100\n",
            "544/544 [==============================] - 4s 8ms/step - loss: 1.0484 - acc: 0.5246 - val_loss: 1.0302 - val_acc: 0.5675\n",
            "Epoch 29/100\n",
            "544/544 [==============================] - 4s 8ms/step - loss: 1.0471 - acc: 0.5243 - val_loss: 1.0261 - val_acc: 0.5816\n",
            "Epoch 30/100\n",
            "544/544 [==============================] - 4s 8ms/step - loss: 1.0458 - acc: 0.5272 - val_loss: 1.0254 - val_acc: 0.5834\n",
            "Epoch 31/100\n",
            "544/544 [==============================] - 4s 8ms/step - loss: 1.0430 - acc: 0.5271 - val_loss: 1.0244 - val_acc: 0.5966\n",
            "Epoch 32/100\n",
            "544/544 [==============================] - 4s 8ms/step - loss: 1.0427 - acc: 0.5311 - val_loss: 1.0219 - val_acc: 0.5843\n",
            "Epoch 33/100\n",
            "544/544 [==============================] - 4s 8ms/step - loss: 1.0454 - acc: 0.5271 - val_loss: 1.0245 - val_acc: 0.5940\n",
            "Epoch 34/100\n",
            "544/544 [==============================] - 4s 8ms/step - loss: 1.0420 - acc: 0.5324 - val_loss: 1.0170 - val_acc: 0.5940\n",
            "Epoch 35/100\n",
            "544/544 [==============================] - 4s 8ms/step - loss: 1.0384 - acc: 0.5374 - val_loss: 1.0176 - val_acc: 0.5790\n",
            "Epoch 36/100\n",
            "544/544 [==============================] - 4s 8ms/step - loss: 1.0390 - acc: 0.5336 - val_loss: 1.0124 - val_acc: 0.5834\n",
            "Epoch 37/100\n",
            "544/544 [==============================] - 4s 8ms/step - loss: 1.0379 - acc: 0.5343 - val_loss: 1.0123 - val_acc: 0.5914\n",
            "Epoch 38/100\n",
            "544/544 [==============================] - 4s 8ms/step - loss: 1.0399 - acc: 0.5341 - val_loss: 1.0167 - val_acc: 0.5755\n",
            "Epoch 39/100\n",
            "544/544 [==============================] - 4s 8ms/step - loss: 1.0384 - acc: 0.5329 - val_loss: 1.0135 - val_acc: 0.5843\n",
            "Epoch 40/100\n",
            "544/544 [==============================] - 4s 8ms/step - loss: 1.0358 - acc: 0.5394 - val_loss: 1.0108 - val_acc: 0.5878\n",
            "Epoch 41/100\n",
            "544/544 [==============================] - 4s 8ms/step - loss: 1.0347 - acc: 0.5381 - val_loss: 1.0167 - val_acc: 0.5799\n",
            "Epoch 42/100\n",
            "544/544 [==============================] - 4s 8ms/step - loss: 1.0355 - acc: 0.5338 - val_loss: 1.0153 - val_acc: 0.5772\n",
            "Epoch 43/100\n",
            "544/544 [==============================] - 5s 10ms/step - loss: 1.0315 - acc: 0.5433 - val_loss: 1.0105 - val_acc: 0.5949\n",
            "Epoch 44/100\n",
            "544/544 [==============================] - 4s 8ms/step - loss: 1.0334 - acc: 0.5432 - val_loss: 1.0068 - val_acc: 0.5905\n",
            "Epoch 45/100\n",
            "544/544 [==============================] - 4s 8ms/step - loss: 1.0308 - acc: 0.5384 - val_loss: 1.0047 - val_acc: 0.5931\n",
            "Epoch 46/100\n",
            "544/544 [==============================] - 4s 8ms/step - loss: 1.0308 - acc: 0.5416 - val_loss: 1.0055 - val_acc: 0.5861\n",
            "Epoch 47/100\n",
            "544/544 [==============================] - 4s 8ms/step - loss: 1.0283 - acc: 0.5449 - val_loss: 0.9997 - val_acc: 0.6108\n",
            "Epoch 48/100\n",
            "544/544 [==============================] - 4s 8ms/step - loss: 1.0260 - acc: 0.5463 - val_loss: 0.9998 - val_acc: 0.5966\n",
            "Epoch 49/100\n",
            "544/544 [==============================] - 4s 8ms/step - loss: 1.0319 - acc: 0.5418 - val_loss: 1.0014 - val_acc: 0.6064\n",
            "Epoch 50/100\n",
            "544/544 [==============================] - 4s 8ms/step - loss: 1.0275 - acc: 0.5430 - val_loss: 0.9968 - val_acc: 0.6099\n",
            "Epoch 51/100\n",
            "544/544 [==============================] - 4s 8ms/step - loss: 1.0294 - acc: 0.5449 - val_loss: 0.9983 - val_acc: 0.6125\n",
            "Epoch 52/100\n",
            "544/544 [==============================] - 4s 8ms/step - loss: 1.0278 - acc: 0.5445 - val_loss: 0.9982 - val_acc: 0.6134\n",
            "Epoch 53/100\n",
            "544/544 [==============================] - 4s 8ms/step - loss: 1.0239 - acc: 0.5466 - val_loss: 0.9935 - val_acc: 0.6125\n",
            "Epoch 54/100\n",
            "544/544 [==============================] - 4s 8ms/step - loss: 1.0266 - acc: 0.5502 - val_loss: 0.9952 - val_acc: 0.6072\n",
            "Epoch 55/100\n",
            "544/544 [==============================] - 4s 8ms/step - loss: 1.0212 - acc: 0.5535 - val_loss: 0.9911 - val_acc: 0.6161\n",
            "Epoch 56/100\n",
            "544/544 [==============================] - 4s 8ms/step - loss: 1.0221 - acc: 0.5502 - val_loss: 0.9954 - val_acc: 0.6019\n",
            "Epoch 57/100\n",
            "544/544 [==============================] - 4s 8ms/step - loss: 1.0231 - acc: 0.5472 - val_loss: 0.9898 - val_acc: 0.6222\n",
            "Epoch 58/100\n",
            "544/544 [==============================] - 4s 8ms/step - loss: 1.0245 - acc: 0.5507 - val_loss: 0.9914 - val_acc: 0.6134\n",
            "Epoch 59/100\n",
            "544/544 [==============================] - 4s 8ms/step - loss: 1.0204 - acc: 0.5523 - val_loss: 0.9885 - val_acc: 0.6108\n",
            "Epoch 60/100\n",
            "544/544 [==============================] - 4s 8ms/step - loss: 1.0191 - acc: 0.5539 - val_loss: 0.9887 - val_acc: 0.6169\n",
            "Epoch 61/100\n",
            "544/544 [==============================] - 4s 8ms/step - loss: 1.0218 - acc: 0.5534 - val_loss: 0.9850 - val_acc: 0.6152\n",
            "Epoch 62/100\n",
            "544/544 [==============================] - 5s 9ms/step - loss: 1.0208 - acc: 0.5532 - val_loss: 0.9838 - val_acc: 0.6152\n",
            "Epoch 63/100\n",
            "544/544 [==============================] - 4s 8ms/step - loss: 1.0171 - acc: 0.5542 - val_loss: 0.9830 - val_acc: 0.6143\n",
            "Epoch 64/100\n",
            "544/544 [==============================] - 4s 8ms/step - loss: 1.0178 - acc: 0.5540 - val_loss: 0.9829 - val_acc: 0.6099\n",
            "Epoch 65/100\n",
            "544/544 [==============================] - 5s 8ms/step - loss: 1.0176 - acc: 0.5538 - val_loss: 0.9802 - val_acc: 0.6134\n",
            "Epoch 66/100\n",
            "544/544 [==============================] - 4s 8ms/step - loss: 1.0150 - acc: 0.5566 - val_loss: 0.9782 - val_acc: 0.6196\n",
            "Epoch 67/100\n",
            "544/544 [==============================] - 4s 8ms/step - loss: 1.0176 - acc: 0.5568 - val_loss: 0.9796 - val_acc: 0.6169\n",
            "Epoch 68/100\n",
            "544/544 [==============================] - 4s 8ms/step - loss: 1.0168 - acc: 0.5581 - val_loss: 0.9813 - val_acc: 0.6205\n",
            "Epoch 69/100\n",
            "544/544 [==============================] - 4s 8ms/step - loss: 1.0183 - acc: 0.5566 - val_loss: 0.9818 - val_acc: 0.6090\n",
            "Epoch 70/100\n",
            "544/544 [==============================] - 4s 8ms/step - loss: 1.0154 - acc: 0.5538 - val_loss: 0.9768 - val_acc: 0.6152\n",
            "Epoch 71/100\n",
            "544/544 [==============================] - 4s 8ms/step - loss: 1.0106 - acc: 0.5568 - val_loss: 0.9738 - val_acc: 0.6187\n",
            "Epoch 72/100\n",
            "544/544 [==============================] - 4s 8ms/step - loss: 1.0163 - acc: 0.5529 - val_loss: 0.9775 - val_acc: 0.6249\n",
            "Epoch 73/100\n",
            "544/544 [==============================] - 4s 8ms/step - loss: 1.0111 - acc: 0.5615 - val_loss: 0.9763 - val_acc: 0.6222\n",
            "Epoch 74/100\n",
            "544/544 [==============================] - 4s 8ms/step - loss: 1.0151 - acc: 0.5592 - val_loss: 0.9792 - val_acc: 0.6046\n",
            "Epoch 75/100\n",
            "544/544 [==============================] - 4s 8ms/step - loss: 1.0120 - acc: 0.5611 - val_loss: 0.9730 - val_acc: 0.6178\n",
            "Epoch 76/100\n",
            "544/544 [==============================] - 4s 8ms/step - loss: 1.0115 - acc: 0.5571 - val_loss: 0.9744 - val_acc: 0.6196\n",
            "Epoch 77/100\n",
            "544/544 [==============================] - 5s 8ms/step - loss: 1.0140 - acc: 0.5591 - val_loss: 0.9701 - val_acc: 0.6267\n",
            "Epoch 78/100\n",
            "544/544 [==============================] - 4s 8ms/step - loss: 1.0099 - acc: 0.5621 - val_loss: 0.9688 - val_acc: 0.6214\n",
            "Epoch 79/100\n",
            "544/544 [==============================] - 4s 8ms/step - loss: 1.0136 - acc: 0.5581 - val_loss: 0.9688 - val_acc: 0.6143\n",
            "Epoch 80/100\n",
            "544/544 [==============================] - 4s 8ms/step - loss: 1.0111 - acc: 0.5613 - val_loss: 0.9715 - val_acc: 0.6072\n",
            "Epoch 81/100\n",
            "544/544 [==============================] - 5s 9ms/step - loss: 1.0094 - acc: 0.5643 - val_loss: 0.9687 - val_acc: 0.6196\n",
            "Epoch 82/100\n",
            "544/544 [==============================] - 4s 8ms/step - loss: 1.0102 - acc: 0.5619 - val_loss: 0.9675 - val_acc: 0.6161\n",
            "Epoch 83/100\n",
            "544/544 [==============================] - 4s 8ms/step - loss: 1.0081 - acc: 0.5663 - val_loss: 0.9746 - val_acc: 0.6064\n",
            "Epoch 84/100\n",
            "544/544 [==============================] - 4s 8ms/step - loss: 1.0106 - acc: 0.5610 - val_loss: 0.9647 - val_acc: 0.6196\n",
            "Epoch 85/100\n",
            "544/544 [==============================] - 4s 8ms/step - loss: 1.0067 - acc: 0.5664 - val_loss: 0.9657 - val_acc: 0.6240\n",
            "Epoch 86/100\n",
            "544/544 [==============================] - 4s 8ms/step - loss: 1.0063 - acc: 0.5654 - val_loss: 0.9712 - val_acc: 0.6011\n",
            "Epoch 87/100\n",
            "544/544 [==============================] - 5s 8ms/step - loss: 1.0031 - acc: 0.5692 - val_loss: 0.9642 - val_acc: 0.6187\n",
            "Epoch 88/100\n",
            "544/544 [==============================] - 4s 8ms/step - loss: 1.0091 - acc: 0.5632 - val_loss: 0.9658 - val_acc: 0.6249\n",
            "Epoch 89/100\n",
            "544/544 [==============================] - 4s 8ms/step - loss: 1.0069 - acc: 0.5648 - val_loss: 0.9658 - val_acc: 0.6231\n",
            "Epoch 90/100\n",
            "544/544 [==============================] - 5s 8ms/step - loss: 1.0046 - acc: 0.5643 - val_loss: 0.9623 - val_acc: 0.6275\n",
            "Epoch 91/100\n",
            "544/544 [==============================] - 5s 8ms/step - loss: 1.0079 - acc: 0.5630 - val_loss: 0.9599 - val_acc: 0.6178\n",
            "Epoch 92/100\n",
            "544/544 [==============================] - 4s 8ms/step - loss: 1.0068 - acc: 0.5672 - val_loss: 0.9610 - val_acc: 0.6205\n",
            "Epoch 93/100\n",
            "544/544 [==============================] - 4s 8ms/step - loss: 1.0074 - acc: 0.5634 - val_loss: 0.9601 - val_acc: 0.6240\n",
            "Epoch 94/100\n",
            "544/544 [==============================] - 5s 8ms/step - loss: 1.0098 - acc: 0.5635 - val_loss: 0.9618 - val_acc: 0.6143\n",
            "Epoch 95/100\n",
            "544/544 [==============================] - 4s 8ms/step - loss: 1.0056 - acc: 0.5645 - val_loss: 0.9635 - val_acc: 0.6284\n",
            "Epoch 96/100\n",
            "544/544 [==============================] - 4s 8ms/step - loss: 1.0049 - acc: 0.5662 - val_loss: 0.9591 - val_acc: 0.6231\n",
            "Epoch 97/100\n",
            "544/544 [==============================] - 4s 8ms/step - loss: 1.0063 - acc: 0.5640 - val_loss: 0.9599 - val_acc: 0.6125\n",
            "Epoch 98/100\n",
            "544/544 [==============================] - 4s 8ms/step - loss: 1.0047 - acc: 0.5647 - val_loss: 0.9616 - val_acc: 0.6072\n",
            "Epoch 99/100\n",
            "544/544 [==============================] - 5s 9ms/step - loss: 1.0001 - acc: 0.5679 - val_loss: 0.9581 - val_acc: 0.6258\n",
            "Epoch 100/100\n",
            "544/544 [==============================] - 4s 8ms/step - loss: 1.0067 - acc: 0.5665 - val_loss: 0.9613 - val_acc: 0.6187\n"
          ]
        }
      ],
      "source": [
        "# Compile model.\n",
        "\n",
        "# Optimizer\n",
        "initial_learning_rate = learning_rate\n",
        "lr_schedule = keras.optimizers.schedules.ExponentialDecay(\n",
        "    initial_learning_rate, decay_steps=10000, decay_rate=0.96, staircase=True\n",
        ")\n",
        "\n",
        "model.compile(\n",
        "    loss=keras.losses.categorical_crossentropy,\n",
        "    optimizer=keras.optimizers.Adam(learning_rate=lr_schedule),\n",
        "    metrics=[\"acc\"],\n",
        ")\n",
        "\n",
        "# Define callbacks.\n",
        "checkpoint_cb = keras.callbacks.ModelCheckpoint(\n",
        "    \"Primary_data_classification.h5\", save_best_only=True\n",
        ")\n",
        "early_stopping_cb = keras.callbacks.EarlyStopping(monitor=\"val_acc\", patience=25) # Changed patience from 15 to 25 based on the reviwers comment to reach more epochs\n",
        "\n",
        "# Train the model, doing validation at the end of each epoch\n",
        "history = model.fit(\n",
        "    train_dataset,\n",
        "    validation_data=validation_dataset,\n",
        "    epochs=epochs,\n",
        "    shuffle=True,\n",
        "    class_weight=class_weights[0],\n",
        "    verbose=1,\n",
        "    callbacks=[checkpoint_cb, early_stopping_cb],\n",
        ")"
      ]
    },
    {
      "cell_type": "markdown",
      "metadata": {
        "id": "Wb9tZ7LRGrbO"
      },
      "source": [
        "###### With data augmentation"
      ]
    },
    {
      "cell_type": "code",
      "execution_count": 26,
      "metadata": {
        "id": "tTXZJTeMGOJl",
        "colab": {
          "base_uri": "https://localhost:8080/",
          "height": 255
        },
        "outputId": "a4464b3a-d880-46ab-c59f-95565df81b70"
      },
      "outputs": [
        {
          "output_type": "display_data",
          "data": {
            "text/plain": [
              "<Figure size 1440x216 with 2 Axes>"
            ],
            "image/png": "[encoded data removed]"
          },
          "metadata": {
            "needs_background": "light"
          }
        }
      ],
      "source": [
        "fig, ax = plt.subplots(1, 2, figsize=(20, 3))\n",
        "ax = ax.ravel()\n",
        "\n",
        "for i, metric in enumerate([\"acc\", \"loss\"]):\n",
        "  ax[i].plot(history.history[metric])\n",
        "  ax[i].plot(history.history[\"val_\" + metric])\n",
        "  ax[i].set_title(\"Model {}\".format(metric))\n",
        "  ax[i].set_xlabel(\"epochs\")\n",
        "  ax[i].set_ylabel(metric)\n",
        "  ax[i].legend([\"train\", \"val\"], frameon=False, fontsize = 12)\n",
        "  right_side = ax[i].spines[\"right\"]\n",
        "  right_side.set_visible(False)\n",
        "  top_side = ax[i].spines[\"top\"]\n",
        "  top_side.set_visible(False)\n",
        "  if i==0:\n",
        "    ax[i].set_yticks(np.linspace(.3,.7,3))\n",
        "    ax[i].set_ylim([.30, .70])\n",
        "  else:\n",
        "    ax[i].set_yticks(np.linspace(.75,1.5,3))\n",
        "    ax[i].set_ylim([.75, 1.5])\n",
        "  for item in ([ax[i].xaxis.label, ax[i].yaxis.label]):\n",
        "    item.set_fontsize(16)\n",
        "  for item in (ax[i].get_xticklabels() + ax[i].get_yticklabels()):\n",
        "    item.set_fontsize(14)\n",
        "  ax[i].title.set_fontsize(20)\n",
        "  \n",
        "plt.savefig(\"ACC.svg\")"
      ]
    },
    {
      "cell_type": "code",
      "execution_count": 27,
      "metadata": {
        "id": "6iZ4p3zqGdEs",
        "colab": {
          "base_uri": "https://localhost:8080/"
        },
        "outputId": "e434e233-5d4f-4c31-9fdc-ce33d7954c48"
      },
      "outputs": [
        {
          "output_type": "stream",
          "name": "stdout",
          "text": [
            "Validation score: loss of 0.9613445401191711; acc of 61.87114119529724%\n",
            "Test score: loss of 0.9770757555961609; acc of 61.19929552078247%\n"
          ]
        }
      ],
      "source": [
        "# Generate generalization metrics\n",
        "# Validation\n",
        "ValidationScores = model.evaluate(x_valid, y_valid, verbose=0)\n",
        "print(f'Validation score: {model.metrics_names[0]} of {ValidationScores[0]}; {model.metrics_names[1]} of {ValidationScores[1]*100}%')\n",
        "# Test\n",
        "TestScores = model.evaluate(x_test, y_test, verbose=0)\n",
        "print(f'Test score: {model.metrics_names[0]} of {TestScores[0]}; {model.metrics_names[1]} of {TestScores[1]*100}%')"
      ]
    }
  ],
  "metadata": {
    "colab": {
      "collapsed_sections": [
        "pOMJawB3WxxQ"
      ],
      "name": "Train&Test_Parkinson resting state EEG.ipynb",
      "provenance": []
    },
    "kernelspec": {
      "display_name": "Python 3",
      "name": "python3"
    },
    "language_info": {
      "name": "python"
    },
    "accelerator": "GPU",
    "gpuClass": "standard"
  },
  "nbformat": 4,
  "nbformat_minor": 0
}